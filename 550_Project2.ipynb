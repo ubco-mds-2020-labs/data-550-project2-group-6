{
 "cells": [
  {
   "cell_type": "markdown",
   "metadata": {},
   "source": [
    "<h1><center>EDA ON SUICIDE RATES OVERVIEW FROM 1996 TO 2016 </center></h1>\n",
    "Compares socio-economic information with suicide rates by year and country\n",
    "\n",
    "Data Source : https://www.kaggle.com/russellyates88/suicide-rates-overview-1985-to-2016\n",
    "\n",
    "**Authors:** SOWMYA CHENTHI KUMAR , POOJITHA GOWTHAMAN"
   ]
  },
  {
   "cell_type": "markdown",
   "metadata": {},
   "source": [
    "* * *\n",
    "### 1) DESCRIPTION OF THE DATASET\n",
    "\n",
    "The dataset gives suicide rates overview from 1986 to 2016. We are are using a subset of the dataframe from analysis ther statistics from 1996 to 2016. The dataset has a total of 12 columns\n",
    "\n",
    "* **Country** : Lists the countries where the suicide rates have been recorded\n",
    "\n",
    "* **Year** : Each record of suicide recorded in the year from 1986 ti 2016.\n",
    "\n",
    "* **Sex** : Denotes the gender of the person - Male or female\n",
    "\n",
    "* **AGE** : The age is binned into 6 levels : '5-14 years', '15-24 years', '25-34 years', '35-54 years', '55-74 years', '75+years\n",
    "\n",
    "* **Suicide_no** : Number of suicides recorded for a particular category of age bin, sex and year\n",
    "\n",
    "* **Population** : Population of the country at the time of record taken\n",
    "\n",
    "* **suicides/100k pop** : Proportion of suicides per 100,000 of the population\n",
    "\n",
    "* **country- year** : Concated information of country and year\n",
    "\n",
    "* **HDI for year**: Human Development Index for that particular year. A composite index measuring average achievement in three basic dimensions of human development—a long and healthy life, knowledge and a decent standard of living\n",
    "\n",
    "* **gdp_for_year** : Gross Domestic Product for the year recorded \n",
    "\n",
    "* **gdp_per_capita**: Gross Domestic Product per capita of the population\n",
    "\n",
    "* **generation** : Recorded of the generations - 6 levles - G.I. Generation', 'Generation X', 'Boomers', 'Silent', 'Millenials', 'Generation Z\n",
    "\n",
    "\n",
    "\n",
    "\n",
    "\n",
    "\n",
    "\n",
    "\n",
    "\n",
    "\n",
    "\n",
    "\n",
    "\n",
    "\n",
    "\n",
    "\n",
    "\n",
    "\n",
    "\n"
   ]
  },
  {
   "cell_type": "markdown",
   "metadata": {},
   "source": [
    "***\n",
    "### 2) LOAD THE DATASET"
   ]
  },
  {
   "cell_type": "code",
   "execution_count": 1,
   "metadata": {},
   "outputs": [],
   "source": [
    "import pandas as pd\n",
    "suicide = pd.read_csv(\"master.csv\", parse_dates = ['year'])"
   ]
  },
  {
   "cell_type": "markdown",
   "metadata": {},
   "source": [
    "* * *\n",
    "### 3) EXPLORE THE DATASET"
   ]
  },
  {
   "cell_type": "code",
   "execution_count": 2,
   "metadata": {},
   "outputs": [
    {
     "data": {
      "text/html": [
       "<div>\n",
       "<style scoped>\n",
       "    .dataframe tbody tr th:only-of-type {\n",
       "        vertical-align: middle;\n",
       "    }\n",
       "\n",
       "    .dataframe tbody tr th {\n",
       "        vertical-align: top;\n",
       "    }\n",
       "\n",
       "    .dataframe thead th {\n",
       "        text-align: right;\n",
       "    }\n",
       "</style>\n",
       "<table border=\"1\" class=\"dataframe\">\n",
       "  <thead>\n",
       "    <tr style=\"text-align: right;\">\n",
       "      <th></th>\n",
       "      <th>country</th>\n",
       "      <th>year</th>\n",
       "      <th>sex</th>\n",
       "      <th>age</th>\n",
       "      <th>suicides_no</th>\n",
       "      <th>population</th>\n",
       "      <th>suicides/100k pop</th>\n",
       "      <th>country-year</th>\n",
       "      <th>HDI for year</th>\n",
       "      <th>gdp_for_year ($)</th>\n",
       "      <th>gdp_per_capita ($)</th>\n",
       "      <th>generation</th>\n",
       "    </tr>\n",
       "  </thead>\n",
       "  <tbody>\n",
       "    <tr>\n",
       "      <th>0</th>\n",
       "      <td>Albania</td>\n",
       "      <td>1987-01-01</td>\n",
       "      <td>male</td>\n",
       "      <td>15-24 years</td>\n",
       "      <td>21</td>\n",
       "      <td>312900</td>\n",
       "      <td>6.71</td>\n",
       "      <td>Albania1987</td>\n",
       "      <td>NaN</td>\n",
       "      <td>2,156,624,900</td>\n",
       "      <td>796</td>\n",
       "      <td>Generation X</td>\n",
       "    </tr>\n",
       "    <tr>\n",
       "      <th>1</th>\n",
       "      <td>Albania</td>\n",
       "      <td>1987-01-01</td>\n",
       "      <td>male</td>\n",
       "      <td>35-54 years</td>\n",
       "      <td>16</td>\n",
       "      <td>308000</td>\n",
       "      <td>5.19</td>\n",
       "      <td>Albania1987</td>\n",
       "      <td>NaN</td>\n",
       "      <td>2,156,624,900</td>\n",
       "      <td>796</td>\n",
       "      <td>Silent</td>\n",
       "    </tr>\n",
       "    <tr>\n",
       "      <th>2</th>\n",
       "      <td>Albania</td>\n",
       "      <td>1987-01-01</td>\n",
       "      <td>female</td>\n",
       "      <td>15-24 years</td>\n",
       "      <td>14</td>\n",
       "      <td>289700</td>\n",
       "      <td>4.83</td>\n",
       "      <td>Albania1987</td>\n",
       "      <td>NaN</td>\n",
       "      <td>2,156,624,900</td>\n",
       "      <td>796</td>\n",
       "      <td>Generation X</td>\n",
       "    </tr>\n",
       "    <tr>\n",
       "      <th>3</th>\n",
       "      <td>Albania</td>\n",
       "      <td>1987-01-01</td>\n",
       "      <td>male</td>\n",
       "      <td>75+ years</td>\n",
       "      <td>1</td>\n",
       "      <td>21800</td>\n",
       "      <td>4.59</td>\n",
       "      <td>Albania1987</td>\n",
       "      <td>NaN</td>\n",
       "      <td>2,156,624,900</td>\n",
       "      <td>796</td>\n",
       "      <td>G.I. Generation</td>\n",
       "    </tr>\n",
       "    <tr>\n",
       "      <th>4</th>\n",
       "      <td>Albania</td>\n",
       "      <td>1987-01-01</td>\n",
       "      <td>male</td>\n",
       "      <td>25-34 years</td>\n",
       "      <td>9</td>\n",
       "      <td>274300</td>\n",
       "      <td>3.28</td>\n",
       "      <td>Albania1987</td>\n",
       "      <td>NaN</td>\n",
       "      <td>2,156,624,900</td>\n",
       "      <td>796</td>\n",
       "      <td>Boomers</td>\n",
       "    </tr>\n",
       "  </tbody>\n",
       "</table>\n",
       "</div>"
      ],
      "text/plain": [
       "   country       year     sex          age  suicides_no  population  \\\n",
       "0  Albania 1987-01-01    male  15-24 years           21      312900   \n",
       "1  Albania 1987-01-01    male  35-54 years           16      308000   \n",
       "2  Albania 1987-01-01  female  15-24 years           14      289700   \n",
       "3  Albania 1987-01-01    male    75+ years            1       21800   \n",
       "4  Albania 1987-01-01    male  25-34 years            9      274300   \n",
       "\n",
       "   suicides/100k pop country-year  HDI for year  gdp_for_year ($)   \\\n",
       "0               6.71  Albania1987           NaN      2,156,624,900   \n",
       "1               5.19  Albania1987           NaN      2,156,624,900   \n",
       "2               4.83  Albania1987           NaN      2,156,624,900   \n",
       "3               4.59  Albania1987           NaN      2,156,624,900   \n",
       "4               3.28  Albania1987           NaN      2,156,624,900   \n",
       "\n",
       "   gdp_per_capita ($)       generation  \n",
       "0                 796     Generation X  \n",
       "1                 796           Silent  \n",
       "2                 796     Generation X  \n",
       "3                 796  G.I. Generation  \n",
       "4                 796          Boomers  "
      ]
     },
     "execution_count": 2,
     "metadata": {},
     "output_type": "execute_result"
    }
   ],
   "source": [
    "suicide.head()"
   ]
  },
  {
   "cell_type": "code",
   "execution_count": 3,
   "metadata": {},
   "outputs": [
    {
     "name": "stdout",
     "output_type": "stream",
     "text": [
      "<class 'pandas.core.frame.DataFrame'>\n",
      "RangeIndex: 27820 entries, 0 to 27819\n",
      "Data columns (total 12 columns):\n",
      " #   Column              Non-Null Count  Dtype         \n",
      "---  ------              --------------  -----         \n",
      " 0   country             27820 non-null  object        \n",
      " 1   year                27820 non-null  datetime64[ns]\n",
      " 2   sex                 27820 non-null  object        \n",
      " 3   age                 27820 non-null  object        \n",
      " 4   suicides_no         27820 non-null  int64         \n",
      " 5   population          27820 non-null  int64         \n",
      " 6   suicides/100k pop   27820 non-null  float64       \n",
      " 7   country-year        27820 non-null  object        \n",
      " 8   HDI for year        8364 non-null   float64       \n",
      " 9    gdp_for_year ($)   27820 non-null  object        \n",
      " 10  gdp_per_capita ($)  27820 non-null  int64         \n",
      " 11  generation          27820 non-null  object        \n",
      "dtypes: datetime64[ns](1), float64(2), int64(3), object(6)\n",
      "memory usage: 2.5+ MB\n"
     ]
    }
   ],
   "source": [
    "suicide.info()"
   ]
  },
  {
   "cell_type": "code",
   "execution_count": 4,
   "metadata": {},
   "outputs": [
    {
     "data": {
      "text/plain": [
       "country                   0\n",
       "year                      0\n",
       "sex                       0\n",
       "age                       0\n",
       "suicides_no               0\n",
       "population                0\n",
       "suicides/100k pop         0\n",
       "country-year              0\n",
       "HDI for year          19456\n",
       " gdp_for_year ($)         0\n",
       "gdp_per_capita ($)        0\n",
       "generation                0\n",
       "dtype: int64"
      ]
     },
     "execution_count": 4,
     "metadata": {},
     "output_type": "execute_result"
    }
   ],
   "source": [
    "suicide.isnull().sum()"
   ]
  },
  {
   "cell_type": "code",
   "execution_count": 5,
   "metadata": {},
   "outputs": [
    {
     "data": {
      "text/plain": [
       "country                       object\n",
       "year                  datetime64[ns]\n",
       "sex                           object\n",
       "age                           object\n",
       "suicides_no                    int64\n",
       "population                     int64\n",
       "suicides/100k pop            float64\n",
       "country-year                  object\n",
       "HDI for year                 float64\n",
       " gdp_for_year ($)             object\n",
       "gdp_per_capita ($)             int64\n",
       "generation                    object\n",
       "dtype: object"
      ]
     },
     "execution_count": 5,
     "metadata": {},
     "output_type": "execute_result"
    }
   ],
   "source": [
    "suicide.dtypes"
   ]
  },
  {
   "cell_type": "markdown",
   "metadata": {},
   "source": [
    "* * *\n",
    "### 4) INITIAL THOUGHTS"
   ]
  },
  {
   "cell_type": "markdown",
   "metadata": {},
   "source": [
    "### TEXT"
   ]
  },
  {
   "cell_type": "markdown",
   "metadata": {},
   "source": [
    "* * *\n",
    "### 5) DATA WRANGLING"
   ]
  },
  {
   "cell_type": "markdown",
   "metadata": {},
   "source": [
    "We are subsetting the data to analyze the suicide statistics from 1996 and 2016"
   ]
  },
  {
   "cell_type": "code",
   "execution_count": 6,
   "metadata": {},
   "outputs": [],
   "source": [
    "suicide_subset = suicide.query('year >= 1996')"
   ]
  },
  {
   "cell_type": "markdown",
   "metadata": {},
   "source": [
    "We intent to drop the HDI Column for Visualization purposes - the values need to be imputed and exploded from UN data for each row. This statistic comes handy when we perform predictive modeling, for now to keep visualizations simple, we are temporarily dropping them as they have more than 70% missing values"
   ]
  },
  {
   "cell_type": "code",
   "execution_count": 7,
   "metadata": {},
   "outputs": [],
   "source": [
    "suicide1 = suicide_subset.drop('HDI for year', axis =1)"
   ]
  },
  {
   "cell_type": "code",
   "execution_count": 8,
   "metadata": {},
   "outputs": [],
   "source": [
    "### Dropping country-year as this is redudant information \n",
    "suicide2 = suicide1.drop('country-year', axis = 1)"
   ]
  },
  {
   "cell_type": "code",
   "execution_count": 9,
   "metadata": {},
   "outputs": [],
   "source": [
    "suicide_data = suicide2.copy()"
   ]
  },
  {
   "cell_type": "code",
   "execution_count": 10,
   "metadata": {},
   "outputs": [
    {
     "data": {
      "text/plain": [
       "(19960, 10)"
      ]
     },
     "execution_count": 10,
     "metadata": {},
     "output_type": "execute_result"
    }
   ],
   "source": [
    "suicide_data.shape"
   ]
  },
  {
   "cell_type": "code",
   "execution_count": 11,
   "metadata": {},
   "outputs": [],
   "source": [
    "#wrangling column names to be more intuitive\n",
    "suicide_data.columns = ['country', 'year', 'sex', 'age', 'suicides_no', 'population',\n",
    "       'suicides_per_100k_pop','gdp_for_year','gdp_per_capita', 'generation']"
   ]
  },
  {
   "cell_type": "code",
   "execution_count": 12,
   "metadata": {},
   "outputs": [
    {
     "data": {
      "text/html": [
       "<div>\n",
       "<style scoped>\n",
       "    .dataframe tbody tr th:only-of-type {\n",
       "        vertical-align: middle;\n",
       "    }\n",
       "\n",
       "    .dataframe tbody tr th {\n",
       "        vertical-align: top;\n",
       "    }\n",
       "\n",
       "    .dataframe thead th {\n",
       "        text-align: right;\n",
       "    }\n",
       "</style>\n",
       "<table border=\"1\" class=\"dataframe\">\n",
       "  <thead>\n",
       "    <tr style=\"text-align: right;\">\n",
       "      <th></th>\n",
       "      <th>country</th>\n",
       "      <th>year</th>\n",
       "      <th>sex</th>\n",
       "      <th>age</th>\n",
       "      <th>suicides_no</th>\n",
       "      <th>population</th>\n",
       "      <th>suicides_per_100k_pop</th>\n",
       "      <th>gdp_for_year</th>\n",
       "      <th>gdp_per_capita</th>\n",
       "      <th>generation</th>\n",
       "    </tr>\n",
       "  </thead>\n",
       "  <tbody>\n",
       "    <tr>\n",
       "      <th>84</th>\n",
       "      <td>Albania</td>\n",
       "      <td>1996-01-01</td>\n",
       "      <td>male</td>\n",
       "      <td>75+ years</td>\n",
       "      <td>2</td>\n",
       "      <td>25400</td>\n",
       "      <td>7.87</td>\n",
       "      <td>3,314,898,292</td>\n",
       "      <td>1127</td>\n",
       "      <td>G.I. Generation</td>\n",
       "    </tr>\n",
       "    <tr>\n",
       "      <th>85</th>\n",
       "      <td>Albania</td>\n",
       "      <td>1996-01-01</td>\n",
       "      <td>male</td>\n",
       "      <td>15-24 years</td>\n",
       "      <td>17</td>\n",
       "      <td>243600</td>\n",
       "      <td>6.98</td>\n",
       "      <td>3,314,898,292</td>\n",
       "      <td>1127</td>\n",
       "      <td>Generation X</td>\n",
       "    </tr>\n",
       "    <tr>\n",
       "      <th>86</th>\n",
       "      <td>Albania</td>\n",
       "      <td>1996-01-01</td>\n",
       "      <td>male</td>\n",
       "      <td>25-34 years</td>\n",
       "      <td>14</td>\n",
       "      <td>235300</td>\n",
       "      <td>5.95</td>\n",
       "      <td>3,314,898,292</td>\n",
       "      <td>1127</td>\n",
       "      <td>Generation X</td>\n",
       "    </tr>\n",
       "    <tr>\n",
       "      <th>87</th>\n",
       "      <td>Albania</td>\n",
       "      <td>1996-01-01</td>\n",
       "      <td>female</td>\n",
       "      <td>15-24 years</td>\n",
       "      <td>16</td>\n",
       "      <td>287700</td>\n",
       "      <td>5.56</td>\n",
       "      <td>3,314,898,292</td>\n",
       "      <td>1127</td>\n",
       "      <td>Generation X</td>\n",
       "    </tr>\n",
       "    <tr>\n",
       "      <th>88</th>\n",
       "      <td>Albania</td>\n",
       "      <td>1996-01-01</td>\n",
       "      <td>female</td>\n",
       "      <td>75+ years</td>\n",
       "      <td>2</td>\n",
       "      <td>41200</td>\n",
       "      <td>4.85</td>\n",
       "      <td>3,314,898,292</td>\n",
       "      <td>1127</td>\n",
       "      <td>G.I. Generation</td>\n",
       "    </tr>\n",
       "  </tbody>\n",
       "</table>\n",
       "</div>"
      ],
      "text/plain": [
       "    country       year     sex          age  suicides_no  population  \\\n",
       "84  Albania 1996-01-01    male    75+ years            2       25400   \n",
       "85  Albania 1996-01-01    male  15-24 years           17      243600   \n",
       "86  Albania 1996-01-01    male  25-34 years           14      235300   \n",
       "87  Albania 1996-01-01  female  15-24 years           16      287700   \n",
       "88  Albania 1996-01-01  female    75+ years            2       41200   \n",
       "\n",
       "    suicides_per_100k_pop   gdp_for_year  gdp_per_capita       generation  \n",
       "84                   7.87  3,314,898,292            1127  G.I. Generation  \n",
       "85                   6.98  3,314,898,292            1127     Generation X  \n",
       "86                   5.95  3,314,898,292            1127     Generation X  \n",
       "87                   5.56  3,314,898,292            1127     Generation X  \n",
       "88                   4.85  3,314,898,292            1127  G.I. Generation  "
      ]
     },
     "execution_count": 12,
     "metadata": {},
     "output_type": "execute_result"
    }
   ],
   "source": [
    "suicide_data.head()"
   ]
  },
  {
   "cell_type": "markdown",
   "metadata": {},
   "source": [
    "\n",
    "* CATEGORICAL VARIABLES"
   ]
  },
  {
   "cell_type": "code",
   "execution_count": 13,
   "metadata": {},
   "outputs": [
    {
     "data": {
      "text/plain": [
       "array(['75+ years', '15-24 years', '25-34 years', '35-54 years',\n",
       "       '55-74 years', '5-14 years'], dtype=object)"
      ]
     },
     "execution_count": 13,
     "metadata": {},
     "output_type": "execute_result"
    }
   ],
   "source": [
    "suicide_data.age.unique()"
   ]
  },
  {
   "cell_type": "code",
   "execution_count": 14,
   "metadata": {},
   "outputs": [
    {
     "data": {
      "text/plain": [
       "array(['male', 'female'], dtype=object)"
      ]
     },
     "execution_count": 14,
     "metadata": {},
     "output_type": "execute_result"
    }
   ],
   "source": [
    "suicide_data.sex.unique()"
   ]
  },
  {
   "cell_type": "code",
   "execution_count": 15,
   "metadata": {},
   "outputs": [
    {
     "data": {
      "text/plain": [
       "array(['1996-01-01T00:00:00.000000000', '1997-01-01T00:00:00.000000000',\n",
       "       '1998-01-01T00:00:00.000000000', '1999-01-01T00:00:00.000000000',\n",
       "       '2000-01-01T00:00:00.000000000', '2001-01-01T00:00:00.000000000',\n",
       "       '2002-01-01T00:00:00.000000000', '2003-01-01T00:00:00.000000000',\n",
       "       '2004-01-01T00:00:00.000000000', '2005-01-01T00:00:00.000000000',\n",
       "       '2006-01-01T00:00:00.000000000', '2007-01-01T00:00:00.000000000',\n",
       "       '2008-01-01T00:00:00.000000000', '2009-01-01T00:00:00.000000000',\n",
       "       '2010-01-01T00:00:00.000000000', '2012-01-01T00:00:00.000000000',\n",
       "       '2013-01-01T00:00:00.000000000', '2014-01-01T00:00:00.000000000',\n",
       "       '2015-01-01T00:00:00.000000000', '2011-01-01T00:00:00.000000000',\n",
       "       '2016-01-01T00:00:00.000000000'], dtype='datetime64[ns]')"
      ]
     },
     "execution_count": 15,
     "metadata": {},
     "output_type": "execute_result"
    }
   ],
   "source": [
    "suicide_data.year.unique()"
   ]
  },
  {
   "cell_type": "code",
   "execution_count": 16,
   "metadata": {},
   "outputs": [
    {
     "data": {
      "text/plain": [
       "array(['G.I. Generation', 'Generation X', 'Boomers', 'Silent',\n",
       "       'Millenials', 'Generation Z'], dtype=object)"
      ]
     },
     "execution_count": 16,
     "metadata": {},
     "output_type": "execute_result"
    }
   ],
   "source": [
    "suicide_data.generation.unique()"
   ]
  },
  {
   "cell_type": "markdown",
   "metadata": {},
   "source": [
    "* NUMERICAL COLUMNS"
   ]
  },
  {
   "cell_type": "code",
   "execution_count": 17,
   "metadata": {},
   "outputs": [
    {
     "data": {
      "text/html": [
       "<div>\n",
       "<style scoped>\n",
       "    .dataframe tbody tr th:only-of-type {\n",
       "        vertical-align: middle;\n",
       "    }\n",
       "\n",
       "    .dataframe tbody tr th {\n",
       "        vertical-align: top;\n",
       "    }\n",
       "\n",
       "    .dataframe thead th {\n",
       "        text-align: right;\n",
       "    }\n",
       "</style>\n",
       "<table border=\"1\" class=\"dataframe\">\n",
       "  <thead>\n",
       "    <tr style=\"text-align: right;\">\n",
       "      <th></th>\n",
       "      <th>suicides_no</th>\n",
       "      <th>population</th>\n",
       "      <th>suicides_per_100k_pop</th>\n",
       "      <th>gdp_per_capita</th>\n",
       "    </tr>\n",
       "  </thead>\n",
       "  <tbody>\n",
       "    <tr>\n",
       "      <th>count</th>\n",
       "      <td>19960.000000</td>\n",
       "      <td>1.996000e+04</td>\n",
       "      <td>19960.000000</td>\n",
       "      <td>19960.000000</td>\n",
       "    </tr>\n",
       "    <tr>\n",
       "      <th>mean</th>\n",
       "      <td>240.658768</td>\n",
       "      <td>1.839285e+06</td>\n",
       "      <td>12.646991</td>\n",
       "      <td>19588.653106</td>\n",
       "    </tr>\n",
       "    <tr>\n",
       "      <th>std</th>\n",
       "      <td>906.871742</td>\n",
       "      <td>3.972111e+06</td>\n",
       "      <td>18.826476</td>\n",
       "      <td>20747.693028</td>\n",
       "    </tr>\n",
       "    <tr>\n",
       "      <th>min</th>\n",
       "      <td>0.000000</td>\n",
       "      <td>2.780000e+02</td>\n",
       "      <td>0.000000</td>\n",
       "      <td>291.000000</td>\n",
       "    </tr>\n",
       "    <tr>\n",
       "      <th>25%</th>\n",
       "      <td>3.000000</td>\n",
       "      <td>9.841575e+04</td>\n",
       "      <td>0.930000</td>\n",
       "      <td>4311.000000</td>\n",
       "    </tr>\n",
       "    <tr>\n",
       "      <th>50%</th>\n",
       "      <td>24.000000</td>\n",
       "      <td>4.361375e+05</td>\n",
       "      <td>5.740000</td>\n",
       "      <td>11635.000000</td>\n",
       "    </tr>\n",
       "    <tr>\n",
       "      <th>75%</th>\n",
       "      <td>125.000000</td>\n",
       "      <td>1.477856e+06</td>\n",
       "      <td>16.210000</td>\n",
       "      <td>29247.000000</td>\n",
       "    </tr>\n",
       "    <tr>\n",
       "      <th>max</th>\n",
       "      <td>21262.000000</td>\n",
       "      <td>4.380521e+07</td>\n",
       "      <td>204.920000</td>\n",
       "      <td>126352.000000</td>\n",
       "    </tr>\n",
       "  </tbody>\n",
       "</table>\n",
       "</div>"
      ],
      "text/plain": [
       "        suicides_no    population  suicides_per_100k_pop  gdp_per_capita\n",
       "count  19960.000000  1.996000e+04           19960.000000    19960.000000\n",
       "mean     240.658768  1.839285e+06              12.646991    19588.653106\n",
       "std      906.871742  3.972111e+06              18.826476    20747.693028\n",
       "min        0.000000  2.780000e+02               0.000000      291.000000\n",
       "25%        3.000000  9.841575e+04               0.930000     4311.000000\n",
       "50%       24.000000  4.361375e+05               5.740000    11635.000000\n",
       "75%      125.000000  1.477856e+06              16.210000    29247.000000\n",
       "max    21262.000000  4.380521e+07             204.920000   126352.000000"
      ]
     },
     "execution_count": 17,
     "metadata": {},
     "output_type": "execute_result"
    }
   ],
   "source": [
    "suicide_data.describe()"
   ]
  },
  {
   "cell_type": "code",
   "execution_count": 18,
   "metadata": {},
   "outputs": [
    {
     "data": {
      "text/plain": [
       "country                  0\n",
       "year                     0\n",
       "sex                      0\n",
       "age                      0\n",
       "suicides_no              0\n",
       "population               0\n",
       "suicides_per_100k_pop    0\n",
       "gdp_for_year             0\n",
       "gdp_per_capita           0\n",
       "generation               0\n",
       "dtype: int64"
      ]
     },
     "execution_count": 18,
     "metadata": {},
     "output_type": "execute_result"
    }
   ],
   "source": [
    "suicide_data.isnull().sum()"
   ]
  },
  {
   "cell_type": "markdown",
   "metadata": {},
   "source": [
    "* * *"
   ]
  },
  {
   "cell_type": "markdown",
   "metadata": {},
   "source": [
    "### 6) DATA ANALYSIS & VISUALIZATIONS"
   ]
  },
  {
   "cell_type": "markdown",
   "metadata": {},
   "source": [
    "#### Proportion of suicides among age groups"
   ]
  },
  {
   "cell_type": "code",
   "execution_count": 19,
   "metadata": {},
   "outputs": [
    {
     "data": {
      "text/html": [
       "<div>\n",
       "<style scoped>\n",
       "    .dataframe tbody tr th:only-of-type {\n",
       "        vertical-align: middle;\n",
       "    }\n",
       "\n",
       "    .dataframe tbody tr th {\n",
       "        vertical-align: top;\n",
       "    }\n",
       "\n",
       "    .dataframe thead th {\n",
       "        text-align: right;\n",
       "    }\n",
       "</style>\n",
       "<table border=\"1\" class=\"dataframe\">\n",
       "  <thead>\n",
       "    <tr style=\"text-align: right;\">\n",
       "      <th></th>\n",
       "      <th>year</th>\n",
       "      <th>age</th>\n",
       "      <th>suicides_no</th>\n",
       "      <th>population</th>\n",
       "      <th>proportion_of_suicides</th>\n",
       "    </tr>\n",
       "  </thead>\n",
       "  <tbody>\n",
       "    <tr>\n",
       "      <th>0</th>\n",
       "      <td>1996-01-01</td>\n",
       "      <td>15-24 years</td>\n",
       "      <td>30365</td>\n",
       "      <td>285894005</td>\n",
       "      <td>0.010621</td>\n",
       "    </tr>\n",
       "    <tr>\n",
       "      <th>1</th>\n",
       "      <td>1996-01-01</td>\n",
       "      <td>25-34 years</td>\n",
       "      <td>42593</td>\n",
       "      <td>278429626</td>\n",
       "      <td>0.015298</td>\n",
       "    </tr>\n",
       "  </tbody>\n",
       "</table>\n",
       "</div>"
      ],
      "text/plain": [
       "        year          age  suicides_no  population  proportion_of_suicides\n",
       "0 1996-01-01  15-24 years        30365   285894005                0.010621\n",
       "1 1996-01-01  25-34 years        42593   278429626                0.015298"
      ]
     },
     "execution_count": 19,
     "metadata": {},
     "output_type": "execute_result"
    }
   ],
   "source": [
    "suicide_age = suicide_data.groupby(['year','age'])[['suicides_no', 'population']].sum().reset_index()\n",
    "suicide_age['proportion_of_suicides'] = (suicide_age.suicides_no)*100/suicide_age.population\n",
    "suicide_age.head(2)"
   ]
  },
  {
   "cell_type": "code",
   "execution_count": 20,
   "metadata": {},
   "outputs": [
    {
     "data": {
      "text/html": [
       "\n",
       "<div id=\"altair-viz-b266bfd5b9bc4f77a7cbccf1d0744564\"></div>\n",
       "<script type=\"text/javascript\">\n",
       "  (function(spec, embedOpt){\n",
       "    let outputDiv = document.currentScript.previousElementSibling;\n",
       "    if (outputDiv.id !== \"altair-viz-b266bfd5b9bc4f77a7cbccf1d0744564\") {\n",
       "      outputDiv = document.getElementById(\"altair-viz-b266bfd5b9bc4f77a7cbccf1d0744564\");\n",
       "    }\n",
       "    const paths = {\n",
       "      \"vega\": \"https://cdn.jsdelivr.net/npm//vega@5?noext\",\n",
       "      \"vega-lib\": \"https://cdn.jsdelivr.net/npm//vega-lib?noext\",\n",
       "      \"vega-lite\": \"https://cdn.jsdelivr.net/npm//vega-lite@4.8.1?noext\",\n",
       "      \"vega-embed\": \"https://cdn.jsdelivr.net/npm//vega-embed@6?noext\",\n",
       "    };\n",
       "\n",
       "    function loadScript(lib) {\n",
       "      return new Promise(function(resolve, reject) {\n",
       "        var s = document.createElement('script');\n",
       "        s.src = paths[lib];\n",
       "        s.async = true;\n",
       "        s.onload = () => resolve(paths[lib]);\n",
       "        s.onerror = () => reject(`Error loading script: ${paths[lib]}`);\n",
       "        document.getElementsByTagName(\"head\")[0].appendChild(s);\n",
       "      });\n",
       "    }\n",
       "\n",
       "    function showError(err) {\n",
       "      outputDiv.innerHTML = `<div class=\"error\" style=\"color:red;\">${err}</div>`;\n",
       "      throw err;\n",
       "    }\n",
       "\n",
       "    function displayChart(vegaEmbed) {\n",
       "      vegaEmbed(outputDiv, spec, embedOpt)\n",
       "        .catch(err => showError(`Javascript Error: ${err.message}<br>This usually means there's a typo in your chart specification. See the javascript console for the full traceback.`));\n",
       "    }\n",
       "\n",
       "    if(typeof define === \"function\" && define.amd) {\n",
       "      requirejs.config({paths});\n",
       "      require([\"vega-embed\"], displayChart, err => showError(`Error loading script: ${err.message}`));\n",
       "    } else if (typeof vegaEmbed === \"function\") {\n",
       "      displayChart(vegaEmbed);\n",
       "    } else {\n",
       "      loadScript(\"vega\")\n",
       "        .then(() => loadScript(\"vega-lite\"))\n",
       "        .then(() => loadScript(\"vega-embed\"))\n",
       "        .catch(showError)\n",
       "        .then(() => displayChart(vegaEmbed));\n",
       "    }\n",
       "  })({\"config\": {\"view\": {\"continuousWidth\": 400, \"continuousHeight\": 300}}, \"data\": {\"name\": \"data-76e891c615056bcf08724d340f249885\"}, \"mark\": \"line\", \"encoding\": {\"color\": {\"type\": \"nominal\", \"field\": \"age\"}, \"x\": {\"type\": \"temporal\", \"field\": \"year\"}, \"y\": {\"type\": \"quantitative\", \"field\": \"proportion_of_suicides\"}}, \"height\": 500, \"title\": \"Proportion of Suicides among age groups\", \"width\": 500, \"$schema\": \"https://vega.github.io/schema/vega-lite/v4.8.1.json\", \"datasets\": {\"data-76e891c615056bcf08724d340f249885\": [{\"year\": \"1996-01-01T00:00:00\", \"age\": \"15-24 years\", \"suicides_no\": 30365, \"population\": 285894005, \"proportion_of_suicides\": 0.010621069161628626}, {\"year\": \"1996-01-01T00:00:00\", \"age\": \"25-34 years\", \"suicides_no\": 42593, \"population\": 278429626, \"proportion_of_suicides\": 0.01529758187442309}, {\"year\": \"1996-01-01T00:00:00\", \"age\": \"35-54 years\", \"suicides_no\": 91280, \"population\": 454968532, \"proportion_of_suicides\": 0.020062926022321032}, {\"year\": \"1996-01-01T00:00:00\", \"age\": \"5-14 years\", \"suicides_no\": 1865, \"population\": 290936431, \"proportion_of_suicides\": 0.0006410335046696163}, {\"year\": \"1996-01-01T00:00:00\", \"age\": \"55-74 years\", \"suicides_no\": 59979, \"population\": 276361725, \"proportion_of_suicides\": 0.02170307773263465}, {\"year\": \"1996-01-01T00:00:00\", \"age\": \"75+ years\", \"suicides_no\": 20643, \"population\": 75677343, \"proportion_of_suicides\": 0.027277649005198294}, {\"year\": \"1997-01-01T00:00:00\", \"age\": \"15-24 years\", \"suicides_no\": 30157, \"population\": 294538353, \"proportion_of_suicides\": 0.010238734512106136}, {\"year\": \"1997-01-01T00:00:00\", \"age\": \"25-34 years\", \"suicides_no\": 41158, \"population\": 285003000, \"proportion_of_suicides\": 0.014441251495598292}, {\"year\": \"1997-01-01T00:00:00\", \"age\": \"35-54 years\", \"suicides_no\": 88012, \"population\": 466646342, \"proportion_of_suicides\": 0.01886053571593196}, {\"year\": \"1997-01-01T00:00:00\", \"age\": \"5-14 years\", \"suicides_no\": 1880, \"population\": 302524185, \"proportion_of_suicides\": 0.0006214379190873615}, {\"year\": \"1997-01-01T00:00:00\", \"age\": \"55-74 years\", \"suicides_no\": 58672, \"population\": 277090379, \"proportion_of_suicides\": 0.021174318722917477}, {\"year\": \"1997-01-01T00:00:00\", \"age\": \"75+ years\", \"suicides_no\": 20866, \"population\": 77189260, \"proportion_of_suicides\": 0.027032258114665177}, {\"year\": \"1998-01-01T00:00:00\", \"age\": \"15-24 years\", \"suicides_no\": 30817, \"population\": 296626620, \"proportion_of_suicides\": 0.010389155228212491}, {\"year\": \"1998-01-01T00:00:00\", \"age\": \"25-34 years\", \"suicides_no\": 41706, \"population\": 286231329, \"proportion_of_suicides\": 0.0145707320528844}, {\"year\": \"1998-01-01T00:00:00\", \"age\": \"35-54 years\", \"suicides_no\": 91627, \"population\": 478662917, \"proportion_of_suicides\": 0.019142280871530307}, {\"year\": \"1998-01-01T00:00:00\", \"age\": \"5-14 years\", \"suicides_no\": 2082, \"population\": 302835669, \"proportion_of_suicides\": 0.0006875015769691251}, {\"year\": \"1998-01-01T00:00:00\", \"age\": \"55-74 years\", \"suicides_no\": 61642, \"population\": 281202250, \"proportion_of_suicides\": 0.02192087723337918}, {\"year\": \"1998-01-01T00:00:00\", \"age\": \"75+ years\", \"suicides_no\": 21717, \"population\": 79622566, \"proportion_of_suicides\": 0.02727493107921189}, {\"year\": \"1999-01-01T00:00:00\", \"age\": \"15-24 years\", \"suicides_no\": 31582, \"population\": 304307108, \"proportion_of_suicides\": 0.010378331353337957}, {\"year\": \"1999-01-01T00:00:00\", \"age\": \"25-34 years\", \"suicides_no\": 41968, \"population\": 291530934, \"proportion_of_suicides\": 0.014395727898981725}, {\"year\": \"1999-01-01T00:00:00\", \"age\": \"35-54 years\", \"suicides_no\": 96223, \"population\": 500176591, \"proportion_of_suicides\": 0.019237805553359053}, {\"year\": \"1999-01-01T00:00:00\", \"age\": \"5-14 years\", \"suicides_no\": 2049, \"population\": 307095027, \"proportion_of_suicides\": 0.0006672201826309613}, {\"year\": \"1999-01-01T00:00:00\", \"age\": \"55-74 years\", \"suicides_no\": 62664, \"population\": 289611423, \"proportion_of_suicides\": 0.021637268085244}, {\"year\": \"1999-01-01T00:00:00\", \"age\": \"75+ years\", \"suicides_no\": 21633, \"population\": 83642072, \"proportion_of_suicides\": 0.025863778219171806}, {\"year\": \"2000-01-01T00:00:00\", \"age\": \"15-24 years\", \"suicides_no\": 31742, \"population\": 306833668, \"proportion_of_suicides\": 0.01034501859163643}, {\"year\": \"2000-01-01T00:00:00\", \"age\": \"25-34 years\", \"suicides_no\": 41605, \"population\": 294464558, \"proportion_of_suicides\": 0.014129034842964022}, {\"year\": \"2000-01-01T00:00:00\", \"age\": \"35-54 years\", \"suicides_no\": 97814, \"population\": 512406074, \"proportion_of_suicides\": 0.019089157011046673}, {\"year\": \"2000-01-01T00:00:00\", \"age\": \"5-14 years\", \"suicides_no\": 2065, \"population\": 307228422, \"proportion_of_suicides\": 0.0006721383349096524}, {\"year\": \"2000-01-01T00:00:00\", \"age\": \"55-74 years\", \"suicides_no\": 60973, \"population\": 291933570, \"proportion_of_suicides\": 0.02088591592943559}, {\"year\": \"2000-01-01T00:00:00\", \"age\": \"75+ years\", \"suicides_no\": 21633, \"population\": 86361616, \"proportion_of_suicides\": 0.025049322838053424}, {\"year\": \"2001-01-01T00:00:00\", \"age\": \"15-24 years\", \"suicides_no\": 30806, \"population\": 297966000, \"proportion_of_suicides\": 0.010338763483081962}, {\"year\": \"2001-01-01T00:00:00\", \"age\": \"25-34 years\", \"suicides_no\": 40279, \"population\": 284481809, \"proportion_of_suicides\": 0.014158726050564448}, {\"year\": \"2001-01-01T00:00:00\", \"age\": \"35-54 years\", \"suicides_no\": 96998, \"population\": 503304611, \"proportion_of_suicides\": 0.019272225582689925}, {\"year\": \"2001-01-01T00:00:00\", \"age\": \"5-14 years\", \"suicides_no\": 2095, \"population\": 294718908, \"proportion_of_suicides\": 0.0007108468249346255}, {\"year\": \"2001-01-01T00:00:00\", \"age\": \"55-74 years\", \"suicides_no\": 59037, \"population\": 287082265, \"proportion_of_suicides\": 0.02056448871893915}, {\"year\": \"2001-01-01T00:00:00\", \"age\": \"75+ years\", \"suicides_no\": 21437, \"population\": 88011896, \"proportion_of_suicides\": 0.024356934658014865}, {\"year\": \"2002-01-01T00:00:00\", \"age\": \"15-24 years\", \"suicides_no\": 31087, \"population\": 309304957, \"proportion_of_suicides\": 0.010050598704113236}, {\"year\": \"2002-01-01T00:00:00\", \"age\": \"25-34 years\", \"suicides_no\": 41536, \"population\": 296207160, \"proportion_of_suicides\": 0.014022618494434773}, {\"year\": \"2002-01-01T00:00:00\", \"age\": \"35-54 years\", \"suicides_no\": 98675, \"population\": 524892282, \"proportion_of_suicides\": 0.018799095239887716}, {\"year\": \"2002-01-01T00:00:00\", \"age\": \"5-14 years\", \"suicides_no\": 2064, \"population\": 301180148, \"proportion_of_suicides\": 0.0006853041323294655}, {\"year\": \"2002-01-01T00:00:00\", \"age\": \"55-74 years\", \"suicides_no\": 60324, \"population\": 298245176, \"proportion_of_suicides\": 0.020226312059444678}, {\"year\": \"2002-01-01T00:00:00\", \"age\": \"75+ years\", \"suicides_no\": 22409, \"population\": 92323092, \"proportion_of_suicides\": 0.024272367307628735}, {\"year\": \"2003-01-01T00:00:00\", \"age\": \"15-24 years\", \"suicides_no\": 30558, \"population\": 311965575, \"proportion_of_suicides\": 0.009795311550000348}, {\"year\": \"2003-01-01T00:00:00\", \"age\": \"25-34 years\", \"suicides_no\": 41053, \"population\": 296827661, \"proportion_of_suicides\": 0.013830584340318607}, {\"year\": \"2003-01-01T00:00:00\", \"age\": \"35-54 years\", \"suicides_no\": 98693, \"population\": 531132194, \"proportion_of_suicides\": 0.018581626403915558}, {\"year\": \"2003-01-01T00:00:00\", \"age\": \"5-14 years\", \"suicides_no\": 1873, \"population\": 299034887, \"proportion_of_suicides\": 0.0006263483230302824}, {\"year\": \"2003-01-01T00:00:00\", \"age\": \"55-74 years\", \"suicides_no\": 60929, \"population\": 304473586, \"proportion_of_suicides\": 0.0200112596959396}, {\"year\": \"2003-01-01T00:00:00\", \"age\": \"75+ years\", \"suicides_no\": 22973, \"population\": 95024117, \"proportion_of_suicides\": 0.024175967875607832}, {\"year\": \"2004-01-01T00:00:00\", \"age\": \"15-24 years\", \"suicides_no\": 28702, \"population\": 290415721, \"proportion_of_suicides\": 0.009883073788557059}, {\"year\": \"2004-01-01T00:00:00\", \"age\": \"25-34 years\", \"suicides_no\": 38221, \"population\": 279976620, \"proportion_of_suicides\": 0.01365149704286022}, {\"year\": \"2004-01-01T00:00:00\", \"age\": \"35-54 years\", \"suicides_no\": 92531, \"population\": 509520667, \"proportion_of_suicides\": 0.018160401725176734}, {\"year\": \"2004-01-01T00:00:00\", \"age\": \"5-14 years\", \"suicides_no\": 1839, \"population\": 270982469, \"proportion_of_suicides\": 0.0006786416873336555}, {\"year\": \"2004-01-01T00:00:00\", \"age\": \"55-74 years\", \"suicides_no\": 57103, \"population\": 298895614, \"proportion_of_suicides\": 0.019104663074781685}, {\"year\": \"2004-01-01T00:00:00\", \"age\": \"75+ years\", \"suicides_no\": 22465, \"population\": 95455522, \"proportion_of_suicides\": 0.023534521135403774}, {\"year\": \"2005-01-01T00:00:00\", \"age\": \"15-24 years\", \"suicides_no\": 27624, \"population\": 286690446, \"proportion_of_suicides\": 0.009635479795514358}, {\"year\": \"2005-01-01T00:00:00\", \"age\": \"25-34 years\", \"suicides_no\": 37442, \"population\": 278296962, \"proportion_of_suicides\": 0.013453973672914187}, {\"year\": \"2005-01-01T00:00:00\", \"age\": \"35-54 years\", \"suicides_no\": 88498, \"population\": 507445700, \"proportion_of_suicides\": 0.017439895539562163}, {\"year\": \"2005-01-01T00:00:00\", \"age\": \"5-14 years\", \"suicides_no\": 1774, \"population\": 264397401, \"proportion_of_suicides\": 0.0006709596967634338}, {\"year\": \"2005-01-01T00:00:00\", \"age\": \"55-74 years\", \"suicides_no\": 56581, \"population\": 301001533, \"proportion_of_suicides\": 0.01879757868209927}, {\"year\": \"2005-01-01T00:00:00\", \"age\": \"75+ years\", \"suicides_no\": 22456, \"population\": 97077603, \"proportion_of_suicides\": 0.023132009141181617}, {\"year\": \"2006-01-01T00:00:00\", \"age\": \"15-24 years\", \"suicides_no\": 27937, \"population\": 305127668, \"proportion_of_suicides\": 0.009155839646767135}, {\"year\": \"2006-01-01T00:00:00\", \"age\": \"25-34 years\", \"suicides_no\": 37221, \"population\": 295325866, \"proportion_of_suicides\": 0.0126033660729196}, {\"year\": \"2006-01-01T00:00:00\", \"age\": \"35-54 years\", \"suicides_no\": 87032, \"population\": 536511821, \"proportion_of_suicides\": 0.016221823377121823}, {\"year\": \"2006-01-01T00:00:00\", \"age\": \"5-14 years\", \"suicides_no\": 1755, \"population\": 283329957, \"proportion_of_suicides\": 0.0006194191459959174}, {\"year\": \"2006-01-01T00:00:00\", \"age\": \"55-74 years\", \"suicides_no\": 56613, \"population\": 318224726, \"proportion_of_suicides\": 0.017790258070644077}, {\"year\": \"2006-01-01T00:00:00\", \"age\": \"75+ years\", \"suicides_no\": 22803, \"population\": 102388799, \"proportion_of_suicides\": 0.022270990794608304}, {\"year\": \"2007-01-01T00:00:00\", \"age\": \"15-24 years\", \"suicides_no\": 27670, \"population\": 305436926, \"proportion_of_suicides\": 0.009059153509160187}, {\"year\": \"2007-01-01T00:00:00\", \"age\": \"25-34 years\", \"suicides_no\": 37936, \"population\": 298222521, \"proportion_of_suicides\": 0.012720702605823656}, {\"year\": \"2007-01-01T00:00:00\", \"age\": \"35-54 years\", \"suicides_no\": 85749, \"population\": 542880362, \"proportion_of_suicides\": 0.015795192827402365}, {\"year\": \"2007-01-01T00:00:00\", \"age\": \"5-14 years\", \"suicides_no\": 1671, \"population\": 281095405, \"proportion_of_suicides\": 0.0005944600908719942}, {\"year\": \"2007-01-01T00:00:00\", \"age\": \"55-74 years\", \"suicides_no\": 56857, \"population\": 326135725, \"proportion_of_suicides\": 0.01743353936463109}, {\"year\": \"2007-01-01T00:00:00\", \"age\": \"75+ years\", \"suicides_no\": 23525, \"population\": 105793414, \"proportion_of_suicides\": 0.022236733942625198}, {\"year\": \"2008-01-01T00:00:00\", \"age\": \"15-24 years\", \"suicides_no\": 28145, \"population\": 302200881, \"proportion_of_suicides\": 0.009313341478974708}, {\"year\": \"2008-01-01T00:00:00\", \"age\": \"25-34 years\", \"suicides_no\": 37756, \"population\": 297532003, \"proportion_of_suicides\": 0.012689727363546838}, {\"year\": \"2008-01-01T00:00:00\", \"age\": \"35-54 years\", \"suicides_no\": 86664, \"population\": 542789284, \"proportion_of_suicides\": 0.01596641690516499}, {\"year\": \"2008-01-01T00:00:00\", \"age\": \"5-14 years\", \"suicides_no\": 1640, \"population\": 278903896, \"proportion_of_suicides\": 0.0005880161674041297}, {\"year\": \"2008-01-01T00:00:00\", \"age\": \"55-74 years\", \"suicides_no\": 57687, \"population\": 332062421, \"proportion_of_suicides\": 0.01737233614881101}, {\"year\": \"2008-01-01T00:00:00\", \"age\": \"75+ years\", \"suicides_no\": 23555, \"population\": 107132366, \"proportion_of_suicides\": 0.02198681955740621}, {\"year\": \"2009-01-01T00:00:00\", \"age\": \"15-24 years\", \"suicides_no\": 28487, \"population\": 321540733, \"proportion_of_suicides\": 0.008859530714573571}, {\"year\": \"2009-01-01T00:00:00\", \"age\": \"25-34 years\", \"suicides_no\": 39389, \"population\": 318594904, \"proportion_of_suicides\": 0.012363349038376333}, {\"year\": \"2009-01-01T00:00:00\", \"age\": \"35-54 years\", \"suicides_no\": 90390, \"population\": 575243831, \"proportion_of_suicides\": 0.015713336698086208}, {\"year\": \"2009-01-01T00:00:00\", \"age\": \"5-14 years\", \"suicides_no\": 1835, \"population\": 297254525, \"proportion_of_suicides\": 0.0006173160862732031}, {\"year\": \"2009-01-01T00:00:00\", \"age\": \"55-74 years\", \"suicides_no\": 59902, \"population\": 351397333, \"proportion_of_suicides\": 0.01704679984011148}, {\"year\": \"2009-01-01T00:00:00\", \"age\": \"75+ years\", \"suicides_no\": 23484, \"population\": 112197040, \"proportion_of_suicides\": 0.0209310334746799}, {\"year\": \"2010-01-01T00:00:00\", \"age\": \"15-24 years\", \"suicides_no\": 27684, \"population\": 321498365, \"proportion_of_suicides\": 0.008610930260873955}, {\"year\": \"2010-01-01T00:00:00\", \"age\": \"25-34 years\", \"suicides_no\": 38317, \"population\": 321277547, \"proportion_of_suicides\": 0.011926448131154338}, {\"year\": \"2010-01-01T00:00:00\", \"age\": \"35-54 years\", \"suicides_no\": 87364, \"population\": 581133742, \"proportion_of_suicides\": 0.015033372472803343}, {\"year\": \"2010-01-01T00:00:00\", \"age\": \"5-14 years\", \"suicides_no\": 1760, \"population\": 297317505, \"proportion_of_suicides\": 0.0005919597636876442}, {\"year\": \"2010-01-01T00:00:00\", \"age\": \"55-74 years\", \"suicides_no\": 59743, \"population\": 361189135, \"proportion_of_suicides\": 0.016540641511821778}, {\"year\": \"2010-01-01T00:00:00\", \"age\": \"75+ years\", \"suicides_no\": 23834, \"population\": 114881035, \"proportion_of_suicides\": 0.0207466793801083}, {\"year\": \"2011-01-01T00:00:00\", \"age\": \"15-24 years\", \"suicides_no\": 27937, \"population\": 317262371, \"proportion_of_suicides\": 0.008805645596086148}, {\"year\": \"2011-01-01T00:00:00\", \"age\": \"25-34 years\", \"suicides_no\": 37936, \"population\": 318111842, \"proportion_of_suicides\": 0.011925365544863935}, {\"year\": \"2011-01-01T00:00:00\", \"age\": \"35-54 years\", \"suicides_no\": 85345, \"population\": 578742563, \"proportion_of_suicides\": 0.014746625780830984}, {\"year\": \"2011-01-01T00:00:00\", \"age\": \"5-14 years\", \"suicides_no\": 1879, \"population\": 294238144, \"proportion_of_suicides\": 0.0006385983728880508}, {\"year\": \"2011-01-01T00:00:00\", \"age\": \"55-74 years\", \"suicides_no\": 59178, \"population\": 367532048, \"proportion_of_suicides\": 0.016101453008527843}, {\"year\": \"2011-01-01T00:00:00\", \"age\": \"75+ years\", \"suicides_no\": 24209, \"population\": 117475364, \"proportion_of_suicides\": 0.020607725037566173}, {\"year\": \"2012-01-01T00:00:00\", \"age\": \"15-24 years\", \"suicides_no\": 26280, \"population\": 295020664, \"proportion_of_suicides\": 0.008907850603983455}, {\"year\": \"2012-01-01T00:00:00\", \"age\": \"25-34 years\", \"suicides_no\": 36625, \"population\": 303401688, \"proportion_of_suicides\": 0.012071455581354577}, {\"year\": \"2012-01-01T00:00:00\", \"age\": \"35-54 years\", \"suicides_no\": 82482, \"population\": 558344819, \"proportion_of_suicides\": 0.014772591630334444}, {\"year\": \"2012-01-01T00:00:00\", \"age\": \"5-14 years\", \"suicides_no\": 1752, \"population\": 271680873, \"proportion_of_suicides\": 0.0006448742528886087}, {\"year\": \"2012-01-01T00:00:00\", \"age\": \"55-74 years\", \"suicides_no\": 58443, \"population\": 365281729, \"proportion_of_suicides\": 0.015999431496339638}, {\"year\": \"2012-01-01T00:00:00\", \"age\": \"75+ years\", \"suicides_no\": 24578, \"population\": 119082315, \"proportion_of_suicides\": 0.02063950469891352}, {\"year\": \"2013-01-01T00:00:00\", \"age\": \"15-24 years\", \"suicides_no\": 24249, \"population\": 288206852, \"proportion_of_suicides\": 0.00841374860858617}, {\"year\": \"2013-01-01T00:00:00\", \"age\": \"25-34 years\", \"suicides_no\": 35068, \"population\": 298709101, \"proportion_of_suicides\": 0.011739849868183293}, {\"year\": \"2013-01-01T00:00:00\", \"age\": \"35-54 years\", \"suicides_no\": 80227, \"population\": 550420191, \"proportion_of_suicides\": 0.01457559175913298}, {\"year\": \"2013-01-01T00:00:00\", \"age\": \"5-14 years\", \"suicides_no\": 1806, \"population\": 268175176, \"proportion_of_suicides\": 0.0006734404082203344}, {\"year\": \"2013-01-01T00:00:00\", \"age\": \"55-74 years\", \"suicides_no\": 57696, \"population\": 364931201, \"proportion_of_suicides\": 0.015810103340547197}, {\"year\": \"2013-01-01T00:00:00\", \"age\": \"75+ years\", \"suicides_no\": 24153, \"population\": 119719189, \"proportion_of_suicides\": 0.02017471067232171}, {\"year\": \"2014-01-01T00:00:00\", \"age\": \"15-24 years\", \"suicides_no\": 24028, \"population\": 287809150, \"proportion_of_suicides\": 0.008348587944476401}, {\"year\": \"2014-01-01T00:00:00\", \"age\": \"25-34 years\", \"suicides_no\": 35381, \"population\": 302734620, \"proportion_of_suicides\": 0.011687133767522196}, {\"year\": \"2014-01-01T00:00:00\", \"age\": \"35-54 years\", \"suicides_no\": 79132, \"population\": 556105537, \"proportion_of_suicides\": 0.014229673098903167}, {\"year\": \"2014-01-01T00:00:00\", \"age\": \"5-14 years\", \"suicides_no\": 1882, \"population\": 268239985, \"proportion_of_suicides\": 0.000701610537295549}, {\"year\": \"2014-01-01T00:00:00\", \"age\": \"55-74 years\", \"suicides_no\": 57696, \"population\": 374038522, \"proportion_of_suicides\": 0.015425149177549152}, {\"year\": \"2014-01-01T00:00:00\", \"age\": \"75+ years\", \"suicides_no\": 24865, \"population\": 123129495, \"proportion_of_suicides\": 0.020194186616293682}, {\"year\": \"2015-01-01T00:00:00\", \"age\": \"15-24 years\", \"suicides_no\": 21841, \"population\": 261674147, \"proportion_of_suicides\": 0.008346640373303672}, {\"year\": \"2015-01-01T00:00:00\", \"age\": \"25-34 years\", \"suicides_no\": 32118, \"population\": 279250191, \"proportion_of_suicides\": 0.011501514067003808}, {\"year\": \"2015-01-01T00:00:00\", \"age\": \"35-54 years\", \"suicides_no\": 71298, \"population\": 515972039, \"proportion_of_suicides\": 0.013818190640365302}, {\"year\": \"2015-01-01T00:00:00\", \"age\": \"5-14 years\", \"suicides_no\": 1681, \"population\": 246636333, \"proportion_of_suicides\": 0.0006815703021338709}, {\"year\": \"2015-01-01T00:00:00\", \"age\": \"55-74 years\", \"suicides_no\": 53588, \"population\": 354566127, \"proportion_of_suicides\": 0.01511368287021958}, {\"year\": \"2015-01-01T00:00:00\", \"age\": \"75+ years\", \"suicides_no\": 23114, \"population\": 116559095, \"proportion_of_suicides\": 0.01983028437206037}, {\"year\": \"2016-01-01T00:00:00\", \"age\": \"15-24 years\", \"suicides_no\": 1195, \"population\": 20296338, \"proportion_of_suicides\": 0.005887761624781771}, {\"year\": \"2016-01-01T00:00:00\", \"age\": \"25-34 years\", \"suicides_no\": 2070, \"population\": 22641704, \"proportion_of_suicides\": 0.009142421436125125}, {\"year\": \"2016-01-01T00:00:00\", \"age\": \"35-54 years\", \"suicides_no\": 5766, \"population\": 47314975, \"proportion_of_suicides\": 0.01218641666829582}, {\"year\": \"2016-01-01T00:00:00\", \"age\": \"55-74 years\", \"suicides_no\": 4715, \"population\": 32084580, \"proportion_of_suicides\": 0.014695532869683817}, {\"year\": \"2016-01-01T00:00:00\", \"age\": \"75+ years\", \"suicides_no\": 1857, \"population\": 9764299, \"proportion_of_suicides\": 0.019018262345305074}]}}, {\"mode\": \"vega-lite\"});\n",
       "</script>"
      ],
      "text/plain": [
       "alt.Chart(...)"
      ]
     },
     "execution_count": 20,
     "metadata": {},
     "output_type": "execute_result"
    }
   ],
   "source": [
    "import altair as alt\n",
    "prop_of_suicides = alt.Chart(suicide_age, title = 'Proportion of Suicides among age groups').mark_line().encode(\n",
    "    alt.X('year'),\n",
    "    alt.Y('proportion_of_suicides'),\n",
    "    color = 'age').properties(\n",
    "    width = 500, height = 500)\n",
    "prop_of_suicides"
   ]
  },
  {
   "cell_type": "markdown",
   "metadata": {},
   "source": [
    "It is satisfying to note that the proportion of suicides has fallen steadily over time!\n",
    "We see the suicide rates suddenly drop in 2014 to 2016.\n",
    "\n",
    "There seems to be a bit of an increasing trend in 1997 - 1998 in all age groups but the 5 -14 years. We are lucky to see no suicides in the 5 - 14 years category. After 1998 we observe a general downward trend up until 2015. There is sudden decrease from 2015 to 2016 and no recorded suicides in in the 5 - 14 years category. \n",
    "\n",
    "The most alarming category that needs to looked into is the age group of `35-45 years`. There seems to be a sudden increase from 1998 to 2004. This is a distributing statistics as we lost a significant number of the mid-life age group. This potentially can be attributed to the famines and recessions that the world for turmoiled into. Loosing this age group of the population puts an increasing pressure on the world economy to bridge the gap between the young workforce and driving workforce of the economic statuses in the country.\n",
    "\n",
    "\n",
    "One of the disturbing category of age group that can be looked at is the `75+ years`. There are by far the highest in proportion of suicides. This is bare truth, yet painful. We have a significant portion of the world's elderly population. The reasons can be enormous, old age, health, retirement homes. Whatever be the reason death by suicide after a long hard life is unjust and we have to address this to get some wise experience in the younger population too!\n"
   ]
  },
  {
   "cell_type": "markdown",
   "metadata": {},
   "source": [
    "#### Top countries in the highest recorded year of median suicide numbers"
   ]
  },
  {
   "cell_type": "code",
   "execution_count": 21,
   "metadata": {},
   "outputs": [
    {
     "data": {
      "text/html": [
       "<div>\n",
       "<style scoped>\n",
       "    .dataframe tbody tr th:only-of-type {\n",
       "        vertical-align: middle;\n",
       "    }\n",
       "\n",
       "    .dataframe tbody tr th {\n",
       "        vertical-align: top;\n",
       "    }\n",
       "\n",
       "    .dataframe thead th {\n",
       "        text-align: right;\n",
       "    }\n",
       "</style>\n",
       "<table border=\"1\" class=\"dataframe\">\n",
       "  <thead>\n",
       "    <tr style=\"text-align: right;\">\n",
       "      <th></th>\n",
       "      <th>year</th>\n",
       "      <th>suicides_no</th>\n",
       "    </tr>\n",
       "  </thead>\n",
       "  <tbody>\n",
       "    <tr>\n",
       "      <th>0</th>\n",
       "      <td>1996-01-01</td>\n",
       "      <td>30.0</td>\n",
       "    </tr>\n",
       "    <tr>\n",
       "      <th>1</th>\n",
       "      <td>1997-01-01</td>\n",
       "      <td>32.0</td>\n",
       "    </tr>\n",
       "    <tr>\n",
       "      <th>2</th>\n",
       "      <td>1998-01-01</td>\n",
       "      <td>31.5</td>\n",
       "    </tr>\n",
       "    <tr>\n",
       "      <th>3</th>\n",
       "      <td>1999-01-01</td>\n",
       "      <td>29.0</td>\n",
       "    </tr>\n",
       "    <tr>\n",
       "      <th>4</th>\n",
       "      <td>2000-01-01</td>\n",
       "      <td>24.0</td>\n",
       "    </tr>\n",
       "    <tr>\n",
       "      <th>5</th>\n",
       "      <td>2001-01-01</td>\n",
       "      <td>21.0</td>\n",
       "    </tr>\n",
       "    <tr>\n",
       "      <th>6</th>\n",
       "      <td>2002-01-01</td>\n",
       "      <td>26.0</td>\n",
       "    </tr>\n",
       "    <tr>\n",
       "      <th>7</th>\n",
       "      <td>2003-01-01</td>\n",
       "      <td>24.0</td>\n",
       "    </tr>\n",
       "    <tr>\n",
       "      <th>8</th>\n",
       "      <td>2004-01-01</td>\n",
       "      <td>20.0</td>\n",
       "    </tr>\n",
       "    <tr>\n",
       "      <th>9</th>\n",
       "      <td>2005-01-01</td>\n",
       "      <td>19.0</td>\n",
       "    </tr>\n",
       "    <tr>\n",
       "      <th>10</th>\n",
       "      <td>2006-01-01</td>\n",
       "      <td>20.0</td>\n",
       "    </tr>\n",
       "    <tr>\n",
       "      <th>11</th>\n",
       "      <td>2007-01-01</td>\n",
       "      <td>19.0</td>\n",
       "    </tr>\n",
       "    <tr>\n",
       "      <th>12</th>\n",
       "      <td>2008-01-01</td>\n",
       "      <td>23.0</td>\n",
       "    </tr>\n",
       "    <tr>\n",
       "      <th>13</th>\n",
       "      <td>2009-01-01</td>\n",
       "      <td>21.5</td>\n",
       "    </tr>\n",
       "    <tr>\n",
       "      <th>14</th>\n",
       "      <td>2010-01-01</td>\n",
       "      <td>22.0</td>\n",
       "    </tr>\n",
       "    <tr>\n",
       "      <th>15</th>\n",
       "      <td>2011-01-01</td>\n",
       "      <td>21.0</td>\n",
       "    </tr>\n",
       "    <tr>\n",
       "      <th>16</th>\n",
       "      <td>2012-01-01</td>\n",
       "      <td>25.5</td>\n",
       "    </tr>\n",
       "    <tr>\n",
       "      <th>17</th>\n",
       "      <td>2013-01-01</td>\n",
       "      <td>27.0</td>\n",
       "    </tr>\n",
       "    <tr>\n",
       "      <th>18</th>\n",
       "      <td>2014-01-01</td>\n",
       "      <td>29.0</td>\n",
       "    </tr>\n",
       "    <tr>\n",
       "      <th>19</th>\n",
       "      <td>2015-01-01</td>\n",
       "      <td>34.0</td>\n",
       "    </tr>\n",
       "    <tr>\n",
       "      <th>20</th>\n",
       "      <td>2016-01-01</td>\n",
       "      <td>31.5</td>\n",
       "    </tr>\n",
       "  </tbody>\n",
       "</table>\n",
       "</div>"
      ],
      "text/plain": [
       "         year  suicides_no\n",
       "0  1996-01-01         30.0\n",
       "1  1997-01-01         32.0\n",
       "2  1998-01-01         31.5\n",
       "3  1999-01-01         29.0\n",
       "4  2000-01-01         24.0\n",
       "5  2001-01-01         21.0\n",
       "6  2002-01-01         26.0\n",
       "7  2003-01-01         24.0\n",
       "8  2004-01-01         20.0\n",
       "9  2005-01-01         19.0\n",
       "10 2006-01-01         20.0\n",
       "11 2007-01-01         19.0\n",
       "12 2008-01-01         23.0\n",
       "13 2009-01-01         21.5\n",
       "14 2010-01-01         22.0\n",
       "15 2011-01-01         21.0\n",
       "16 2012-01-01         25.5\n",
       "17 2013-01-01         27.0\n",
       "18 2014-01-01         29.0\n",
       "19 2015-01-01         34.0\n",
       "20 2016-01-01         31.5"
      ]
     },
     "execution_count": 21,
     "metadata": {},
     "output_type": "execute_result"
    }
   ],
   "source": [
    "suicide_data.groupby(['year'])['suicides_no'].median().reset_index()"
   ]
  },
  {
   "cell_type": "code",
   "execution_count": 22,
   "metadata": {},
   "outputs": [
    {
     "data": {
      "text/html": [
       "<div>\n",
       "<style scoped>\n",
       "    .dataframe tbody tr th:only-of-type {\n",
       "        vertical-align: middle;\n",
       "    }\n",
       "\n",
       "    .dataframe tbody tr th {\n",
       "        vertical-align: top;\n",
       "    }\n",
       "\n",
       "    .dataframe thead th {\n",
       "        text-align: right;\n",
       "    }\n",
       "</style>\n",
       "<table border=\"1\" class=\"dataframe\">\n",
       "  <thead>\n",
       "    <tr style=\"text-align: right;\">\n",
       "      <th></th>\n",
       "      <th>year</th>\n",
       "      <th>suicides_no</th>\n",
       "    </tr>\n",
       "  </thead>\n",
       "  <tbody>\n",
       "    <tr>\n",
       "      <th>19</th>\n",
       "      <td>2015-01-01</td>\n",
       "      <td>34.0</td>\n",
       "    </tr>\n",
       "    <tr>\n",
       "      <th>1</th>\n",
       "      <td>1997-01-01</td>\n",
       "      <td>32.0</td>\n",
       "    </tr>\n",
       "  </tbody>\n",
       "</table>\n",
       "</div>"
      ],
      "text/plain": [
       "         year  suicides_no\n",
       "19 2015-01-01         34.0\n",
       "1  1997-01-01         32.0"
      ]
     },
     "execution_count": 22,
     "metadata": {},
     "output_type": "execute_result"
    }
   ],
   "source": [
    "suicide_data.sort_values(['year'])\n",
    "suicide_median = suicide_data.groupby('year')['suicides_no'].median().reset_index()\n",
    "median_suicides = suicide_median.sort_values('suicides_no', ascending = False)\n",
    "median_suicides.head(2)"
   ]
  },
  {
   "cell_type": "markdown",
   "metadata": {},
   "source": [
    "**Year with highest number of median suicides recorded is 2015. Lets analyze this on a country level**"
   ]
  },
  {
   "cell_type": "code",
   "execution_count": 23,
   "metadata": {},
   "outputs": [],
   "source": [
    "year_highest_suicide = suicide_data[suicide_data['year'] == '2015-01-01']"
   ]
  },
  {
   "cell_type": "code",
   "execution_count": 24,
   "metadata": {},
   "outputs": [],
   "source": [
    "top_countries = year_highest_suicide.nlargest(200, 'suicides_no')"
   ]
  },
  {
   "cell_type": "code",
   "execution_count": 26,
   "metadata": {},
   "outputs": [
    {
     "data": {
      "text/html": [
       "\n",
       "<div id=\"altair-viz-1350b43492364ac79ed9aac8cc6facfa\"></div>\n",
       "<script type=\"text/javascript\">\n",
       "  (function(spec, embedOpt){\n",
       "    let outputDiv = document.currentScript.previousElementSibling;\n",
       "    if (outputDiv.id !== \"altair-viz-1350b43492364ac79ed9aac8cc6facfa\") {\n",
       "      outputDiv = document.getElementById(\"altair-viz-1350b43492364ac79ed9aac8cc6facfa\");\n",
       "    }\n",
       "    const paths = {\n",
       "      \"vega\": \"https://cdn.jsdelivr.net/npm//vega@5?noext\",\n",
       "      \"vega-lib\": \"https://cdn.jsdelivr.net/npm//vega-lib?noext\",\n",
       "      \"vega-lite\": \"https://cdn.jsdelivr.net/npm//vega-lite@4.8.1?noext\",\n",
       "      \"vega-embed\": \"https://cdn.jsdelivr.net/npm//vega-embed@6?noext\",\n",
       "    };\n",
       "\n",
       "    function loadScript(lib) {\n",
       "      return new Promise(function(resolve, reject) {\n",
       "        var s = document.createElement('script');\n",
       "        s.src = paths[lib];\n",
       "        s.async = true;\n",
       "        s.onload = () => resolve(paths[lib]);\n",
       "        s.onerror = () => reject(`Error loading script: ${paths[lib]}`);\n",
       "        document.getElementsByTagName(\"head\")[0].appendChild(s);\n",
       "      });\n",
       "    }\n",
       "\n",
       "    function showError(err) {\n",
       "      outputDiv.innerHTML = `<div class=\"error\" style=\"color:red;\">${err}</div>`;\n",
       "      throw err;\n",
       "    }\n",
       "\n",
       "    function displayChart(vegaEmbed) {\n",
       "      vegaEmbed(outputDiv, spec, embedOpt)\n",
       "        .catch(err => showError(`Javascript Error: ${err.message}<br>This usually means there's a typo in your chart specification. See the javascript console for the full traceback.`));\n",
       "    }\n",
       "\n",
       "    if(typeof define === \"function\" && define.amd) {\n",
       "      requirejs.config({paths});\n",
       "      require([\"vega-embed\"], displayChart, err => showError(`Error loading script: ${err.message}`));\n",
       "    } else if (typeof vegaEmbed === \"function\") {\n",
       "      displayChart(vegaEmbed);\n",
       "    } else {\n",
       "      loadScript(\"vega\")\n",
       "        .then(() => loadScript(\"vega-lite\"))\n",
       "        .then(() => loadScript(\"vega-embed\"))\n",
       "        .catch(showError)\n",
       "        .then(() => displayChart(vegaEmbed));\n",
       "    }\n",
       "  })({\"config\": {\"view\": {\"continuousWidth\": 400, \"continuousHeight\": 300}}, \"data\": {\"name\": \"data-a813183129a2bba645150fc78b6bcb75\"}, \"mark\": \"bar\", \"encoding\": {\"color\": {\"type\": \"quantitative\", \"field\": \"gdp_per_capita\", \"scale\": {\"scheme\": \"greenblue\"}}, \"x\": {\"type\": \"quantitative\", \"field\": \"suicides_no\"}, \"y\": {\"type\": \"nominal\", \"field\": \"country\", \"sort\": \"-x\"}}, \"title\": \"Top countries in 2015 with the highest suicide numbers\", \"$schema\": \"https://vega.github.io/schema/vega-lite/v4.8.1.json\", \"datasets\": {\"data-a813183129a2bba645150fc78b6bcb75\": [{\"country\": \"United States\", \"year\": \"2015-01-01T00:00:00\", \"sex\": \"male\", \"age\": \"35-54 years\", \"suicides_no\": 11634, \"population\": 41658010, \"suicides_per_100k_pop\": 27.93, \"gdp_for_year\": \"18,120,714,000,000\", \"gdp_per_capita\": 60387, \"generation\": \"Generation X\"}, {\"country\": \"United States\", \"year\": \"2015-01-01T00:00:00\", \"sex\": \"male\", \"age\": \"55-74 years\", \"suicides_no\": 9068, \"population\": 32264697, \"suicides_per_100k_pop\": 28.11, \"gdp_for_year\": \"18,120,714,000,000\", \"gdp_per_capita\": 60387, \"generation\": \"Boomers\"}, {\"country\": \"Russian Federation\", \"year\": \"2015-01-01T00:00:00\", \"sex\": \"male\", \"age\": \"35-54 years\", \"suicides_no\": 7898, \"population\": 19598084, \"suicides_per_100k_pop\": 40.3, \"gdp_for_year\": \"1,368,400,705,491\", \"gdp_per_capita\": 9987, \"generation\": \"Generation X\"}, {\"country\": \"Japan\", \"year\": \"2015-01-01T00:00:00\", \"sex\": \"male\", \"age\": \"35-54 years\", \"suicides_no\": 5507, \"population\": 17461022, \"suicides_per_100k_pop\": 31.54, \"gdp_for_year\": \"4,394,977,752,878\", \"gdp_per_capita\": 36510, \"generation\": \"Generation X\"}, {\"country\": \"United States\", \"year\": \"2015-01-01T00:00:00\", \"sex\": \"male\", \"age\": \"25-34 years\", \"suicides_no\": 5503, \"population\": 22137097, \"suicides_per_100k_pop\": 24.86, \"gdp_for_year\": \"18,120,714,000,000\", \"gdp_per_capita\": 60387, \"generation\": \"Millenials\"}, {\"country\": \"Japan\", \"year\": \"2015-01-01T00:00:00\", \"sex\": \"male\", \"age\": \"55-74 years\", \"suicides_no\": 5241, \"population\": 16239222, \"suicides_per_100k_pop\": 32.27, \"gdp_for_year\": \"4,394,977,752,878\", \"gdp_per_capita\": 36510, \"generation\": \"Boomers\"}, {\"country\": \"Russian Federation\", \"year\": \"2015-01-01T00:00:00\", \"sex\": \"male\", \"age\": \"25-34 years\", \"suicides_no\": 4994, \"population\": 12407057, \"suicides_per_100k_pop\": 40.25, \"gdp_for_year\": \"1,368,400,705,491\", \"gdp_per_capita\": 9987, \"generation\": \"Millenials\"}, {\"country\": \"Russian Federation\", \"year\": \"2015-01-01T00:00:00\", \"sex\": \"male\", \"age\": \"55-74 years\", \"suicides_no\": 4443, \"population\": 12564884, \"suicides_per_100k_pop\": 35.36, \"gdp_for_year\": \"1,368,400,705,491\", \"gdp_per_capita\": 9987, \"generation\": \"Boomers\"}, {\"country\": \"United States\", \"year\": \"2015-01-01T00:00:00\", \"sex\": \"male\", \"age\": \"15-24 years\", \"suicides_no\": 4359, \"population\": 22615073, \"suicides_per_100k_pop\": 19.27, \"gdp_for_year\": \"18,120,714,000,000\", \"gdp_per_capita\": 60387, \"generation\": \"Millenials\"}, {\"country\": \"United States\", \"year\": \"2015-01-01T00:00:00\", \"sex\": \"female\", \"age\": \"35-54 years\", \"suicides_no\": 4053, \"population\": 41531809, \"suicides_per_100k_pop\": 9.76, \"gdp_for_year\": \"18,120,714,000,000\", \"gdp_per_capita\": 60387, \"generation\": \"Generation X\"}, {\"country\": \"Republic of Korea\", \"year\": \"2015-01-01T00:00:00\", \"sex\": \"male\", \"age\": \"35-54 years\", \"suicides_no\": 3678, \"population\": 8593620, \"suicides_per_100k_pop\": 42.8, \"gdp_for_year\": \"1,382,764,027,114\", \"gdp_per_capita\": 28410, \"generation\": \"Generation X\"}, {\"country\": \"Brazil\", \"year\": \"2015-01-01T00:00:00\", \"sex\": \"male\", \"age\": \"35-54 years\", \"suicides_no\": 3238, \"population\": 26989063, \"suicides_per_100k_pop\": 12.0, \"gdp_for_year\": \"1,802,214,373,741\", \"gdp_per_capita\": 9431, \"generation\": \"Generation X\"}, {\"country\": \"United States\", \"year\": \"2015-01-01T00:00:00\", \"sex\": \"male\", \"age\": \"75+ years\", \"suicides_no\": 3171, \"population\": 8171136, \"suicides_per_100k_pop\": 38.81, \"gdp_for_year\": \"18,120,714,000,000\", \"gdp_per_capita\": 60387, \"generation\": \"Silent\"}, {\"country\": \"Republic of Korea\", \"year\": \"2015-01-01T00:00:00\", \"sex\": \"male\", \"age\": \"55-74 years\", \"suicides_no\": 3123, \"population\": 5071921, \"suicides_per_100k_pop\": 61.57, \"gdp_for_year\": \"1,382,764,027,114\", \"gdp_per_capita\": 28410, \"generation\": \"Boomers\"}, {\"country\": \"United States\", \"year\": \"2015-01-01T00:00:00\", \"sex\": \"female\", \"age\": \"55-74 years\", \"suicides_no\": 2872, \"population\": 35115610, \"suicides_per_100k_pop\": 8.18, \"gdp_for_year\": \"18,120,714,000,000\", \"gdp_per_capita\": 60387, \"generation\": \"Boomers\"}, {\"country\": \"Germany\", \"year\": \"2015-01-01T00:00:00\", \"sex\": \"male\", \"age\": \"55-74 years\", \"suicides_no\": 2304, \"population\": 9436572, \"suicides_per_100k_pop\": 24.42, \"gdp_for_year\": \"3,375,611,100,742\", \"gdp_per_capita\": 43201, \"generation\": \"Boomers\"}, {\"country\": \"Japan\", \"year\": \"2015-01-01T00:00:00\", \"sex\": \"male\", \"age\": \"75+ years\", \"suicides_no\": 2297, \"population\": 6289365, \"suicides_per_100k_pop\": 36.52, \"gdp_for_year\": \"4,394,977,752,878\", \"gdp_per_capita\": 36510, \"generation\": \"Silent\"}, {\"country\": \"Japan\", \"year\": \"2015-01-01T00:00:00\", \"sex\": \"female\", \"age\": \"55-74 years\", \"suicides_no\": 2292, \"population\": 17232482, \"suicides_per_100k_pop\": 13.3, \"gdp_for_year\": \"4,394,977,752,878\", \"gdp_per_capita\": 36510, \"generation\": \"Boomers\"}, {\"country\": \"Germany\", \"year\": \"2015-01-01T00:00:00\", \"sex\": \"male\", \"age\": \"35-54 years\", \"suicides_no\": 2267, \"population\": 11854531, \"suicides_per_100k_pop\": 19.12, \"gdp_for_year\": \"3,375,611,100,742\", \"gdp_per_capita\": 43201, \"generation\": \"Generation X\"}, {\"country\": \"Ukraine\", \"year\": \"2015-01-01T00:00:00\", \"sex\": \"male\", \"age\": \"35-54 years\", \"suicides_no\": 2181, \"population\": 5795334, \"suicides_per_100k_pop\": 37.63, \"gdp_for_year\": \"91,030,959,455\", \"gdp_per_capita\": 2256, \"generation\": \"Generation X\"}, {\"country\": \"Japan\", \"year\": \"2015-01-01T00:00:00\", \"sex\": \"female\", \"age\": \"35-54 years\", \"suicides_no\": 2024, \"population\": 16991218, \"suicides_per_100k_pop\": 11.91, \"gdp_for_year\": \"4,394,977,752,878\", \"gdp_per_capita\": 36510, \"generation\": \"Generation X\"}, {\"country\": \"Japan\", \"year\": \"2015-01-01T00:00:00\", \"sex\": \"male\", \"age\": \"25-34 years\", \"suicides_no\": 1948, \"population\": 6862886, \"suicides_per_100k_pop\": 28.38, \"gdp_for_year\": \"4,394,977,752,878\", \"gdp_per_capita\": 36510, \"generation\": \"Millenials\"}, {\"country\": \"Russian Federation\", \"year\": \"2015-01-01T00:00:00\", \"sex\": \"male\", \"age\": \"15-24 years\", \"suicides_no\": 1928, \"population\": 7995706, \"suicides_per_100k_pop\": 24.11, \"gdp_for_year\": \"1,368,400,705,491\", \"gdp_per_capita\": 9987, \"generation\": \"Millenials\"}, {\"country\": \"Brazil\", \"year\": \"2015-01-01T00:00:00\", \"sex\": \"male\", \"age\": \"25-34 years\", \"suicides_no\": 1897, \"population\": 17625976, \"suicides_per_100k_pop\": 10.76, \"gdp_for_year\": \"1,802,214,373,741\", \"gdp_per_capita\": 9431, \"generation\": \"Millenials\"}, {\"country\": \"Germany\", \"year\": \"2015-01-01T00:00:00\", \"sex\": \"male\", \"age\": \"75+ years\", \"suicides_no\": 1729, \"population\": 3487628, \"suicides_per_100k_pop\": 49.58, \"gdp_for_year\": \"3,375,611,100,742\", \"gdp_per_capita\": 43201, \"generation\": \"Silent\"}, {\"country\": \"Brazil\", \"year\": \"2015-01-01T00:00:00\", \"sex\": \"male\", \"age\": \"55-74 years\", \"suicides_no\": 1693, \"population\": 12987357, \"suicides_per_100k_pop\": 13.04, \"gdp_for_year\": \"1,802,214,373,741\", \"gdp_per_capita\": 9431, \"generation\": \"Boomers\"}, {\"country\": \"Poland\", \"year\": \"2015-01-01T00:00:00\", \"sex\": \"male\", \"age\": \"35-54 years\", \"suicides_no\": 1665, \"population\": 5194280, \"suicides_per_100k_pop\": 32.05, \"gdp_for_year\": \"477,355,617,456\", \"gdp_per_capita\": 13228, \"generation\": \"Generation X\"}, {\"country\": \"Ukraine\", \"year\": \"2015-01-01T00:00:00\", \"sex\": \"male\", \"age\": \"55-74 years\", \"suicides_no\": 1644, \"population\": 3747724, \"suicides_per_100k_pop\": 43.87, \"gdp_for_year\": \"91,030,959,455\", \"gdp_per_capita\": 2256, \"generation\": \"Boomers\"}, {\"country\": \"United Kingdom\", \"year\": \"2015-01-01T00:00:00\", \"sex\": \"male\", \"age\": \"35-54 years\", \"suicides_no\": 1579, \"population\": 8692440, \"suicides_per_100k_pop\": 18.17, \"gdp_for_year\": \"2,885,570,309,161\", \"gdp_per_capita\": 47240, \"generation\": \"Generation X\"}, {\"country\": \"Mexico\", \"year\": \"2015-01-01T00:00:00\", \"sex\": \"male\", \"age\": \"35-54 years\", \"suicides_no\": 1560, \"population\": 15181008, \"suicides_per_100k_pop\": 10.28, \"gdp_for_year\": \"1,169,622,672,463\", \"gdp_per_capita\": 10228, \"generation\": \"Generation X\"}, {\"country\": \"Poland\", \"year\": \"2015-01-01T00:00:00\", \"sex\": \"male\", \"age\": \"55-74 years\", \"suicides_no\": 1524, \"population\": 4043381, \"suicides_per_100k_pop\": 37.69, \"gdp_for_year\": \"477,355,617,456\", \"gdp_per_capita\": 13228, \"generation\": \"Boomers\"}, {\"country\": \"Russian Federation\", \"year\": \"2015-01-01T00:00:00\", \"sex\": \"male\", \"age\": \"75+ years\", \"suicides_no\": 1519, \"population\": 2608590, \"suicides_per_100k_pop\": 58.23, \"gdp_for_year\": \"1,368,400,705,491\", \"gdp_per_capita\": 9987, \"generation\": \"Silent\"}, {\"country\": \"Japan\", \"year\": \"2015-01-01T00:00:00\", \"sex\": \"female\", \"age\": \"75+ years\", \"suicides_no\": 1509, \"population\": 9983066, \"suicides_per_100k_pop\": 15.12, \"gdp_for_year\": \"4,394,977,752,878\", \"gdp_per_capita\": 36510, \"generation\": \"Silent\"}, {\"country\": \"Thailand\", \"year\": \"2015-01-01T00:00:00\", \"sex\": \"male\", \"age\": \"35-54 years\", \"suicides_no\": 1482, \"population\": 10101149, \"suicides_per_100k_pop\": 14.67, \"gdp_for_year\": \"401,399,422,443\", \"gdp_per_capita\": 6552, \"generation\": \"Generation X\"}, {\"country\": \"United States\", \"year\": \"2015-01-01T00:00:00\", \"sex\": \"female\", \"age\": \"25-34 years\", \"suicides_no\": 1444, \"population\": 21555712, \"suicides_per_100k_pop\": 6.7, \"gdp_for_year\": \"18,120,714,000,000\", \"gdp_per_capita\": 60387, \"generation\": \"Millenials\"}, {\"country\": \"Russian Federation\", \"year\": \"2015-01-01T00:00:00\", \"sex\": \"female\", \"age\": \"35-54 years\", \"suicides_no\": 1391, \"population\": 21387236, \"suicides_per_100k_pop\": 6.5, \"gdp_for_year\": \"1,368,400,705,491\", \"gdp_per_capita\": 9987, \"generation\": \"Generation X\"}, {\"country\": \"Brazil\", \"year\": \"2015-01-01T00:00:00\", \"sex\": \"male\", \"age\": \"15-24 years\", \"suicides_no\": 1389, \"population\": 17569045, \"suicides_per_100k_pop\": 7.91, \"gdp_for_year\": \"1,802,214,373,741\", \"gdp_per_capita\": 9431, \"generation\": \"Millenials\"}, {\"country\": \"Republic of Korea\", \"year\": \"2015-01-01T00:00:00\", \"sex\": \"female\", \"age\": \"35-54 years\", \"suicides_no\": 1372, \"population\": 8337331, \"suicides_per_100k_pop\": 16.46, \"gdp_for_year\": \"1,382,764,027,114\", \"gdp_per_capita\": 28410, \"generation\": \"Generation X\"}, {\"country\": \"Mexico\", \"year\": \"2015-01-01T00:00:00\", \"sex\": \"male\", \"age\": \"15-24 years\", \"suicides_no\": 1347, \"population\": 11676480, \"suicides_per_100k_pop\": 11.54, \"gdp_for_year\": \"1,169,622,672,463\", \"gdp_per_capita\": 10228, \"generation\": \"Millenials\"}, {\"country\": \"Republic of Korea\", \"year\": \"2015-01-01T00:00:00\", \"sex\": \"male\", \"age\": \"75+ years\", \"suicides_no\": 1329, \"population\": 944284, \"suicides_per_100k_pop\": 140.74, \"gdp_for_year\": \"1,382,764,027,114\", \"gdp_per_capita\": 28410, \"generation\": \"Silent\"}, {\"country\": \"Mexico\", \"year\": \"2015-01-01T00:00:00\", \"sex\": \"male\", \"age\": \"25-34 years\", \"suicides_no\": 1195, \"population\": 10243158, \"suicides_per_100k_pop\": 11.67, \"gdp_for_year\": \"1,169,622,672,463\", \"gdp_per_capita\": 10228, \"generation\": \"Millenials\"}, {\"country\": \"United States\", \"year\": \"2015-01-01T00:00:00\", \"sex\": \"female\", \"age\": \"15-24 years\", \"suicides_no\": 1132, \"population\": 21633813, \"suicides_per_100k_pop\": 5.23, \"gdp_for_year\": \"18,120,714,000,000\", \"gdp_per_capita\": 60387, \"generation\": \"Millenials\"}, {\"country\": \"Ukraine\", \"year\": \"2015-01-01T00:00:00\", \"sex\": \"male\", \"age\": \"25-34 years\", \"suicides_no\": 1114, \"population\": 3527229, \"suicides_per_100k_pop\": 31.58, \"gdp_for_year\": \"91,030,959,455\", \"gdp_per_capita\": 2256, \"generation\": \"Millenials\"}, {\"country\": \"Japan\", \"year\": \"2015-01-01T00:00:00\", \"sex\": \"male\", \"age\": \"15-24 years\", \"suicides_no\": 1091, \"population\": 6088330, \"suicides_per_100k_pop\": 17.92, \"gdp_for_year\": \"4,394,977,752,878\", \"gdp_per_capita\": 36510, \"generation\": \"Millenials\"}, {\"country\": \"Italy\", \"year\": \"2015-01-01T00:00:00\", \"sex\": \"male\", \"age\": \"35-54 years\", \"suicides_no\": 1063, \"population\": 9239883, \"suicides_per_100k_pop\": 11.5, \"gdp_for_year\": \"1,832,868,490,534\", \"gdp_per_capita\": 31537, \"generation\": \"Generation X\"}, {\"country\": \"Russian Federation\", \"year\": \"2015-01-01T00:00:00\", \"sex\": \"female\", \"age\": \"55-74 years\", \"suicides_no\": 1062, \"population\": 18280577, \"suicides_per_100k_pop\": 5.81, \"gdp_for_year\": \"1,368,400,705,491\", \"gdp_per_capita\": 9987, \"generation\": \"Boomers\"}, {\"country\": \"Spain\", \"year\": \"2015-01-01T00:00:00\", \"sex\": \"male\", \"age\": \"35-54 years\", \"suicides_no\": 1015, \"population\": 7551081, \"suicides_per_100k_pop\": 13.44, \"gdp_for_year\": \"1,197,789,902,774\", \"gdp_per_capita\": 27108, \"generation\": \"Generation X\"}, {\"country\": \"Republic of Korea\", \"year\": \"2015-01-01T00:00:00\", \"sex\": \"female\", \"age\": \"55-74 years\", \"suicides_no\": 990, \"population\": 5412589, \"suicides_per_100k_pop\": 18.29, \"gdp_for_year\": \"1,382,764,027,114\", \"gdp_per_capita\": 28410, \"generation\": \"Boomers\"}, {\"country\": \"Republic of Korea\", \"year\": \"2015-01-01T00:00:00\", \"sex\": \"male\", \"age\": \"25-34 years\", \"suicides_no\": 988, \"population\": 3573299, \"suicides_per_100k_pop\": 27.65, \"gdp_for_year\": \"1,382,764,027,114\", \"gdp_per_capita\": 28410, \"generation\": \"Millenials\"}, {\"country\": \"Kazakhstan\", \"year\": \"2015-01-01T00:00:00\", \"sex\": \"male\", \"age\": \"35-54 years\", \"suicides_no\": 962, \"population\": 2130654, \"suicides_per_100k_pop\": 45.15, \"gdp_for_year\": \"184,388,432,149\", \"gdp_per_capita\": 11784, \"generation\": \"Generation X\"}, {\"country\": \"Russian Federation\", \"year\": \"2015-01-01T00:00:00\", \"sex\": \"female\", \"age\": \"75+ years\", \"suicides_no\": 953, \"population\": 6957819, \"suicides_per_100k_pop\": 13.7, \"gdp_for_year\": \"1,368,400,705,491\", \"gdp_per_capita\": 9987, \"generation\": \"Silent\"}, {\"country\": \"Australia\", \"year\": \"2015-01-01T00:00:00\", \"sex\": \"male\", \"age\": \"35-54 years\", \"suicides_no\": 944, \"population\": 3149299, \"suicides_per_100k_pop\": 29.97, \"gdp_for_year\": \"1,349,034,029,453\", \"gdp_per_capita\": 60656, \"generation\": \"Generation X\"}, {\"country\": \"Italy\", \"year\": \"2015-01-01T00:00:00\", \"sex\": \"male\", \"age\": \"55-74 years\", \"suicides_no\": 934, \"population\": 6795801, \"suicides_per_100k_pop\": 13.74, \"gdp_for_year\": \"1,832,868,490,534\", \"gdp_per_capita\": 31537, \"generation\": \"Boomers\"}, {\"country\": \"Brazil\", \"year\": \"2015-01-01T00:00:00\", \"sex\": \"female\", \"age\": \"35-54 years\", \"suicides_no\": 910, \"population\": 28461855, \"suicides_per_100k_pop\": 3.2, \"gdp_for_year\": \"1,802,214,373,741\", \"gdp_per_capita\": 9431, \"generation\": \"Generation X\"}, {\"country\": \"Germany\", \"year\": \"2015-01-01T00:00:00\", \"sex\": \"female\", \"age\": \"55-74 years\", \"suicides_no\": 908, \"population\": 10054932, \"suicides_per_100k_pop\": 9.03, \"gdp_for_year\": \"3,375,611,100,742\", \"gdp_per_capita\": 43201, \"generation\": \"Boomers\"}, {\"country\": \"United Kingdom\", \"year\": \"2015-01-01T00:00:00\", \"sex\": \"male\", \"age\": \"55-74 years\", \"suicides_no\": 906, \"population\": 6716557, \"suicides_per_100k_pop\": 13.49, \"gdp_for_year\": \"2,885,570,309,161\", \"gdp_per_capita\": 47240, \"generation\": \"Boomers\"}, {\"country\": \"Germany\", \"year\": \"2015-01-01T00:00:00\", \"sex\": \"female\", \"age\": \"35-54 years\", \"suicides_no\": 800, \"population\": 11616616, \"suicides_per_100k_pop\": 6.89, \"gdp_for_year\": \"3,375,611,100,742\", \"gdp_per_capita\": 43201, \"generation\": \"Generation X\"}, {\"country\": \"Poland\", \"year\": \"2015-01-01T00:00:00\", \"sex\": \"male\", \"age\": \"25-34 years\", \"suicides_no\": 768, \"population\": 3043082, \"suicides_per_100k_pop\": 25.24, \"gdp_for_year\": \"477,355,617,456\", \"gdp_per_capita\": 13228, \"generation\": \"Millenials\"}, {\"country\": \"Republic of Korea\", \"year\": \"2015-01-01T00:00:00\", \"sex\": \"female\", \"age\": \"75+ years\", \"suicides_no\": 750, \"population\": 1721418, \"suicides_per_100k_pop\": 43.57, \"gdp_for_year\": \"1,382,764,027,114\", \"gdp_per_capita\": 28410, \"generation\": \"Silent\"}, {\"country\": \"Spain\", \"year\": \"2015-01-01T00:00:00\", \"sex\": \"male\", \"age\": \"55-74 years\", \"suicides_no\": 736, \"population\": 4750328, \"suicides_per_100k_pop\": 15.49, \"gdp_for_year\": \"1,197,789,902,774\", \"gdp_per_capita\": 27108, \"generation\": \"Boomers\"}, {\"country\": \"Romania\", \"year\": \"2015-01-01T00:00:00\", \"sex\": \"male\", \"age\": \"35-54 years\", \"suicides_no\": 734, \"population\": 2931496, \"suicides_per_100k_pop\": 25.04, \"gdp_for_year\": \"177,911,101,680\", \"gdp_per_capita\": 9431, \"generation\": \"Generation X\"}, {\"country\": \"Russian Federation\", \"year\": \"2015-01-01T00:00:00\", \"sex\": \"female\", \"age\": \"25-34 years\", \"suicides_no\": 730, \"population\": 12264840, \"suicides_per_100k_pop\": 5.95, \"gdp_for_year\": \"1,368,400,705,491\", \"gdp_per_capita\": 9987, \"generation\": \"Millenials\"}, {\"country\": \"Germany\", \"year\": \"2015-01-01T00:00:00\", \"sex\": \"male\", \"age\": \"25-34 years\", \"suicides_no\": 721, \"population\": 5336932, \"suicides_per_100k_pop\": 13.51, \"gdp_for_year\": \"3,375,611,100,742\", \"gdp_per_capita\": 43201, \"generation\": \"Millenials\"}, {\"country\": \"Thailand\", \"year\": \"2015-01-01T00:00:00\", \"sex\": \"male\", \"age\": \"55-74 years\", \"suicides_no\": 718, \"population\": 4990958, \"suicides_per_100k_pop\": 14.39, \"gdp_for_year\": \"401,399,422,443\", \"gdp_per_capita\": 6552, \"generation\": \"Boomers\"}, {\"country\": \"Japan\", \"year\": \"2015-01-01T00:00:00\", \"sex\": \"female\", \"age\": \"25-34 years\", \"suicides_no\": 685, \"population\": 6614211, \"suicides_per_100k_pop\": 10.36, \"gdp_for_year\": \"4,394,977,752,878\", \"gdp_per_capita\": 36510, \"generation\": \"Millenials\"}, {\"country\": \"Italy\", \"year\": \"2015-01-01T00:00:00\", \"sex\": \"male\", \"age\": \"75+ years\", \"suicides_no\": 669, \"population\": 2646587, \"suicides_per_100k_pop\": 25.28, \"gdp_for_year\": \"1,832,868,490,534\", \"gdp_per_capita\": 31537, \"generation\": \"Silent\"}, {\"country\": \"Ukraine\", \"year\": \"2015-01-01T00:00:00\", \"sex\": \"male\", \"age\": \"75+ years\", \"suicides_no\": 669, \"population\": 942786, \"suicides_per_100k_pop\": 70.96, \"gdp_for_year\": \"91,030,959,455\", \"gdp_per_capita\": 2256, \"generation\": \"Silent\"}, {\"country\": \"Thailand\", \"year\": \"2015-01-01T00:00:00\", \"sex\": \"male\", \"age\": \"25-34 years\", \"suicides_no\": 663, \"population\": 4873464, \"suicides_per_100k_pop\": 13.6, \"gdp_for_year\": \"401,399,422,443\", \"gdp_per_capita\": 6552, \"generation\": \"Millenials\"}, {\"country\": \"Argentina\", \"year\": \"2015-01-01T00:00:00\", \"sex\": \"male\", \"age\": \"15-24 years\", \"suicides_no\": 656, \"population\": 3500580, \"suicides_per_100k_pop\": 18.74, \"gdp_for_year\": \"594,749,285,413\", \"gdp_per_capita\": 14981, \"generation\": \"Millenials\"}, {\"country\": \"Germany\", \"year\": \"2015-01-01T00:00:00\", \"sex\": \"female\", \"age\": \"75+ years\", \"suicides_no\": 635, \"population\": 5338738, \"suicides_per_100k_pop\": 11.89, \"gdp_for_year\": \"3,375,611,100,742\", \"gdp_per_capita\": 43201, \"generation\": \"Silent\"}, {\"country\": \"Argentina\", \"year\": \"2015-01-01T00:00:00\", \"sex\": \"male\", \"age\": \"35-54 years\", \"suicides_no\": 633, \"population\": 5166179, \"suicides_per_100k_pop\": 12.25, \"gdp_for_year\": \"594,749,285,413\", \"gdp_per_capita\": 14981, \"generation\": \"Generation X\"}, {\"country\": \"Romania\", \"year\": \"2015-01-01T00:00:00\", \"sex\": \"male\", \"age\": \"55-74 years\", \"suicides_no\": 631, \"population\": 2065830, \"suicides_per_100k_pop\": 30.54, \"gdp_for_year\": \"177,911,101,680\", \"gdp_per_capita\": 9431, \"generation\": \"Boomers\"}, {\"country\": \"Kazakhstan\", \"year\": \"2015-01-01T00:00:00\", \"sex\": \"male\", \"age\": \"25-34 years\", \"suicides_no\": 603, \"population\": 1492576, \"suicides_per_100k_pop\": 40.4, \"gdp_for_year\": \"184,388,432,149\", \"gdp_per_capita\": 11784, \"generation\": \"Millenials\"}, {\"country\": \"United Kingdom\", \"year\": \"2015-01-01T00:00:00\", \"sex\": \"male\", \"age\": \"25-34 years\", \"suicides_no\": 596, \"population\": 4408293, \"suicides_per_100k_pop\": 13.52, \"gdp_for_year\": \"2,885,570,309,161\", \"gdp_per_capita\": 47240, \"generation\": \"Millenials\"}, {\"country\": \"Mexico\", \"year\": \"2015-01-01T00:00:00\", \"sex\": \"male\", \"age\": \"55-74 years\", \"suicides_no\": 584, \"population\": 6465941, \"suicides_per_100k_pop\": 9.03, \"gdp_for_year\": \"1,169,622,672,463\", \"gdp_per_capita\": 10228, \"generation\": \"Boomers\"}, {\"country\": \"Spain\", \"year\": \"2015-01-01T00:00:00\", \"sex\": \"male\", \"age\": \"75+ years\", \"suicides_no\": 573, \"population\": 1693221, \"suicides_per_100k_pop\": 33.84, \"gdp_for_year\": \"1,197,789,902,774\", \"gdp_per_capita\": 27108, \"generation\": \"Silent\"}, {\"country\": \"Republic of Korea\", \"year\": \"2015-01-01T00:00:00\", \"sex\": \"female\", \"age\": \"25-34 years\", \"suicides_no\": 572, \"population\": 3353452, \"suicides_per_100k_pop\": 17.06, \"gdp_for_year\": \"1,382,764,027,114\", \"gdp_per_capita\": 28410, \"generation\": \"Millenials\"}, {\"country\": \"Colombia\", \"year\": \"2015-01-01T00:00:00\", \"sex\": \"male\", \"age\": \"35-54 years\", \"suicides_no\": 560, \"population\": 6143478, \"suicides_per_100k_pop\": 9.12, \"gdp_for_year\": \"291,519,591,533\", \"gdp_per_capita\": 6552, \"generation\": \"Generation X\"}, {\"country\": \"United States\", \"year\": \"2015-01-01T00:00:00\", \"sex\": \"female\", \"age\": \"75+ years\", \"suicides_no\": 540, \"population\": 11778666, \"suicides_per_100k_pop\": 4.58, \"gdp_for_year\": \"18,120,714,000,000\", \"gdp_per_capita\": 60387, \"generation\": \"Silent\"}, {\"country\": \"Belgium\", \"year\": \"2015-01-01T00:00:00\", \"sex\": \"male\", \"age\": \"35-54 years\", \"suicides_no\": 529, \"population\": 1567729, \"suicides_per_100k_pop\": 33.74, \"gdp_for_year\": \"455,039,563,133\", \"gdp_per_capita\": 42830, \"generation\": \"Generation X\"}, {\"country\": \"Chile\", \"year\": \"2015-01-01T00:00:00\", \"sex\": \"male\", \"age\": \"35-54 years\", \"suicides_no\": 513, \"population\": 2426719, \"suicides_per_100k_pop\": 21.14, \"gdp_for_year\": \"243,999,477,738\", \"gdp_per_capita\": 14729, \"generation\": \"Generation X\"}, {\"country\": \"Ukraine\", \"year\": \"2015-01-01T00:00:00\", \"sex\": \"male\", \"age\": \"15-24 years\", \"suicides_no\": 507, \"population\": 2408074, \"suicides_per_100k_pop\": 21.05, \"gdp_for_year\": \"91,030,959,455\", \"gdp_per_capita\": 2256, \"generation\": \"Millenials\"}, {\"country\": \"Netherlands\", \"year\": \"2015-01-01T00:00:00\", \"sex\": \"male\", \"age\": \"35-54 years\", \"suicides_no\": 499, \"population\": 2362263, \"suicides_per_100k_pop\": 21.12, \"gdp_for_year\": \"757,999,453,314\", \"gdp_per_capita\": 47206, \"generation\": \"Generation X\"}, {\"country\": \"Hungary\", \"year\": \"2015-01-01T00:00:00\", \"sex\": \"male\", \"age\": \"55-74 years\", \"suicides_no\": 496, \"population\": 1065443, \"suicides_per_100k_pop\": 46.55, \"gdp_for_year\": \"122,879,042,002\", \"gdp_per_capita\": 13087, \"generation\": \"Boomers\"}, {\"country\": \"Mexico\", \"year\": \"2015-01-01T00:00:00\", \"sex\": \"female\", \"age\": \"15-24 years\", \"suicides_no\": 484, \"population\": 11354811, \"suicides_per_100k_pop\": 4.26, \"gdp_for_year\": \"1,169,622,672,463\", \"gdp_per_capita\": 10228, \"generation\": \"Millenials\"}, {\"country\": \"Brazil\", \"year\": \"2015-01-01T00:00:00\", \"sex\": \"female\", \"age\": \"55-74 years\", \"suicides_no\": 479, \"population\": 15122216, \"suicides_per_100k_pop\": 3.17, \"gdp_for_year\": \"1,802,214,373,741\", \"gdp_per_capita\": 9431, \"generation\": \"Boomers\"}, {\"country\": \"Colombia\", \"year\": \"2015-01-01T00:00:00\", \"sex\": \"male\", \"age\": \"15-24 years\", \"suicides_no\": 473, \"population\": 4197599, \"suicides_per_100k_pop\": 11.27, \"gdp_for_year\": \"291,519,591,533\", \"gdp_per_capita\": 6552, \"generation\": \"Millenials\"}, {\"country\": \"United Kingdom\", \"year\": \"2015-01-01T00:00:00\", \"sex\": \"female\", \"age\": \"35-54 years\", \"suicides_no\": 473, \"population\": 8881944, \"suicides_per_100k_pop\": 5.33, \"gdp_for_year\": \"2,885,570,309,161\", \"gdp_per_capita\": 47240, \"generation\": \"Generation X\"}, {\"country\": \"Hungary\", \"year\": \"2015-01-01T00:00:00\", \"sex\": \"male\", \"age\": \"35-54 years\", \"suicides_no\": 472, \"population\": 1432703, \"suicides_per_100k_pop\": 32.94, \"gdp_for_year\": \"122,879,042,002\", \"gdp_per_capita\": 13087, \"generation\": \"Generation X\"}, {\"country\": \"Brazil\", \"year\": \"2015-01-01T00:00:00\", \"sex\": \"male\", \"age\": \"75+ years\", \"suicides_no\": 470, \"population\": 2448560, \"suicides_per_100k_pop\": 19.19, \"gdp_for_year\": \"1,802,214,373,741\", \"gdp_per_capita\": 9431, \"generation\": \"Silent\"}, {\"country\": \"Brazil\", \"year\": \"2015-01-01T00:00:00\", \"sex\": \"female\", \"age\": \"25-34 years\", \"suicides_no\": 466, \"population\": 17546090, \"suicides_per_100k_pop\": 2.66, \"gdp_for_year\": \"1,802,214,373,741\", \"gdp_per_capita\": 9431, \"generation\": \"Millenials\"}, {\"country\": \"Argentina\", \"year\": \"2015-01-01T00:00:00\", \"sex\": \"male\", \"age\": \"25-34 years\", \"suicides_no\": 465, \"population\": 3289927, \"suicides_per_100k_pop\": 14.13, \"gdp_for_year\": \"594,749,285,413\", \"gdp_per_capita\": 14981, \"generation\": \"Millenials\"}, {\"country\": \"Australia\", \"year\": \"2015-01-01T00:00:00\", \"sex\": \"male\", \"age\": \"55-74 years\", \"suicides_no\": 457, \"population\": 2337430, \"suicides_per_100k_pop\": 19.55, \"gdp_for_year\": \"1,349,034,029,453\", \"gdp_per_capita\": 60656, \"generation\": \"Boomers\"}, {\"country\": \"Poland\", \"year\": \"2015-01-01T00:00:00\", \"sex\": \"male\", \"age\": \"15-24 years\", \"suicides_no\": 440, \"population\": 2274111, \"suicides_per_100k_pop\": 19.35, \"gdp_for_year\": \"477,355,617,456\", \"gdp_per_capita\": 13228, \"generation\": \"Millenials\"}, {\"country\": \"Argentina\", \"year\": \"2015-01-01T00:00:00\", \"sex\": \"male\", \"age\": \"55-74 years\", \"suicides_no\": 431, \"population\": 3011963, \"suicides_per_100k_pop\": 14.31, \"gdp_for_year\": \"594,749,285,413\", \"gdp_per_capita\": 14981, \"generation\": \"Boomers\"}, {\"country\": \"Ukraine\", \"year\": \"2015-01-01T00:00:00\", \"sex\": \"female\", \"age\": \"35-54 years\", \"suicides_no\": 427, \"population\": 6309963, \"suicides_per_100k_pop\": 6.77, \"gdp_for_year\": \"91,030,959,455\", \"gdp_per_capita\": 2256, \"generation\": \"Generation X\"}, {\"country\": \"Australia\", \"year\": \"2015-01-01T00:00:00\", \"sex\": \"male\", \"age\": \"25-34 years\", \"suicides_no\": 423, \"population\": 1762265, \"suicides_per_100k_pop\": 24.0, \"gdp_for_year\": \"1,349,034,029,453\", \"gdp_per_capita\": 60656, \"generation\": \"Millenials\"}, {\"country\": \"Republic of Korea\", \"year\": \"2015-01-01T00:00:00\", \"sex\": \"male\", \"age\": \"15-24 years\", \"suicides_no\": 421, \"population\": 3580725, \"suicides_per_100k_pop\": 11.76, \"gdp_for_year\": \"1,382,764,027,114\", \"gdp_per_capita\": 28410, \"generation\": \"Millenials\"}, {\"country\": \"Cuba\", \"year\": \"2015-01-01T00:00:00\", \"sex\": \"male\", \"age\": \"35-54 years\", \"suicides_no\": 418, \"population\": 1879569, \"suicides_per_100k_pop\": 22.24, \"gdp_for_year\": \"87,132,800,000\", \"gdp_per_capita\": 8044, \"generation\": \"Generation X\"}, {\"country\": \"Netherlands\", \"year\": \"2015-01-01T00:00:00\", \"sex\": \"male\", \"age\": \"55-74 years\", \"suicides_no\": 418, \"population\": 1966083, \"suicides_per_100k_pop\": 21.26, \"gdp_for_year\": \"757,999,453,314\", \"gdp_per_capita\": 47206, \"generation\": \"Boomers\"}, {\"country\": \"Japan\", \"year\": \"2015-01-01T00:00:00\", \"sex\": \"female\", \"age\": \"15-24 years\", \"suicides_no\": 408, \"population\": 5772938, \"suicides_per_100k_pop\": 7.07, \"gdp_for_year\": \"4,394,977,752,878\", \"gdp_per_capita\": 36510, \"generation\": \"Millenials\"}, {\"country\": \"Czech Republic\", \"year\": \"2015-01-01T00:00:00\", \"sex\": \"male\", \"age\": \"35-54 years\", \"suicides_no\": 404, \"population\": 1602521, \"suicides_per_100k_pop\": 25.21, \"gdp_for_year\": \"186,829,940,546\", \"gdp_per_capita\": 18703, \"generation\": \"Generation X\"}, {\"country\": \"Ukraine\", \"year\": \"2015-01-01T00:00:00\", \"sex\": \"female\", \"age\": \"55-74 years\", \"suicides_no\": 399, \"population\": 5508376, \"suicides_per_100k_pop\": 7.24, \"gdp_for_year\": \"91,030,959,455\", \"gdp_per_capita\": 2256, \"generation\": \"Boomers\"}, {\"country\": \"Brazil\", \"year\": \"2015-01-01T00:00:00\", \"sex\": \"female\", \"age\": \"15-24 years\", \"suicides_no\": 397, \"population\": 17047218, \"suicides_per_100k_pop\": 2.33, \"gdp_for_year\": \"1,802,214,373,741\", \"gdp_per_capita\": 9431, \"generation\": \"Millenials\"}, {\"country\": \"Cuba\", \"year\": \"2015-01-01T00:00:00\", \"sex\": \"male\", \"age\": \"55-74 years\", \"suicides_no\": 394, \"population\": 1064263, \"suicides_per_100k_pop\": 37.02, \"gdp_for_year\": \"87,132,800,000\", \"gdp_per_capita\": 8044, \"generation\": \"Boomers\"}, {\"country\": \"Turkey\", \"year\": \"2015-01-01T00:00:00\", \"sex\": \"male\", \"age\": \"35-54 years\", \"suicides_no\": 385, \"population\": 10466600, \"suicides_per_100k_pop\": 3.68, \"gdp_for_year\": \"859,796,872,794\", \"gdp_per_capita\": 11961, \"generation\": \"Generation X\"}, {\"country\": \"Colombia\", \"year\": \"2015-01-01T00:00:00\", \"sex\": \"male\", \"age\": \"25-34 years\", \"suicides_no\": 379, \"population\": 3994717, \"suicides_per_100k_pop\": 9.49, \"gdp_for_year\": \"291,519,591,533\", \"gdp_per_capita\": 6552, \"generation\": \"Millenials\"}, {\"country\": \"Russian Federation\", \"year\": \"2015-01-01T00:00:00\", \"sex\": \"female\", \"age\": \"15-24 years\", \"suicides_no\": 378, \"population\": 7653174, \"suicides_per_100k_pop\": 4.94, \"gdp_for_year\": \"1,368,400,705,491\", \"gdp_per_capita\": 9987, \"generation\": \"Millenials\"}, {\"country\": \"Germany\", \"year\": \"2015-01-01T00:00:00\", \"sex\": \"male\", \"age\": \"15-24 years\", \"suicides_no\": 376, \"population\": 4520300, \"suicides_per_100k_pop\": 8.32, \"gdp_for_year\": \"3,375,611,100,742\", \"gdp_per_capita\": 43201, \"generation\": \"Millenials\"}, {\"country\": \"United Kingdom\", \"year\": \"2015-01-01T00:00:00\", \"sex\": \"male\", \"age\": \"15-24 years\", \"suicides_no\": 374, \"population\": 4151992, \"suicides_per_100k_pop\": 9.01, \"gdp_for_year\": \"2,885,570,309,161\", \"gdp_per_capita\": 47240, \"generation\": \"Millenials\"}, {\"country\": \"Czech Republic\", \"year\": \"2015-01-01T00:00:00\", \"sex\": \"male\", \"age\": \"55-74 years\", \"suicides_no\": 373, \"population\": 1202553, \"suicides_per_100k_pop\": 31.02, \"gdp_for_year\": \"186,829,940,546\", \"gdp_per_capita\": 18703, \"generation\": \"Boomers\"}, {\"country\": \"Kazakhstan\", \"year\": \"2015-01-01T00:00:00\", \"sex\": \"male\", \"age\": \"55-74 years\", \"suicides_no\": 363, \"population\": 951365, \"suicides_per_100k_pop\": 38.16, \"gdp_for_year\": \"184,388,432,149\", \"gdp_per_capita\": 11784, \"generation\": \"Boomers\"}, {\"country\": \"Thailand\", \"year\": \"2015-01-01T00:00:00\", \"sex\": \"female\", \"age\": \"35-54 years\", \"suicides_no\": 363, \"population\": 10646859, \"suicides_per_100k_pop\": 3.41, \"gdp_for_year\": \"401,399,422,443\", \"gdp_per_capita\": 6552, \"generation\": \"Generation X\"}, {\"country\": \"Spain\", \"year\": \"2015-01-01T00:00:00\", \"sex\": \"female\", \"age\": \"35-54 years\", \"suicides_no\": 360, \"population\": 7389698, \"suicides_per_100k_pop\": 4.87, \"gdp_for_year\": \"1,197,789,902,774\", \"gdp_per_capita\": 27108, \"generation\": \"Generation X\"}, {\"country\": \"Belgium\", \"year\": \"2015-01-01T00:00:00\", \"sex\": \"male\", \"age\": \"55-74 years\", \"suicides_no\": 353, \"population\": 1200170, \"suicides_per_100k_pop\": 29.41, \"gdp_for_year\": \"455,039,563,133\", \"gdp_per_capita\": 42830, \"generation\": \"Boomers\"}, {\"country\": \"Italy\", \"year\": \"2015-01-01T00:00:00\", \"sex\": \"female\", \"age\": \"35-54 years\", \"suicides_no\": 320, \"population\": 9386928, \"suicides_per_100k_pop\": 3.41, \"gdp_for_year\": \"1,832,868,490,534\", \"gdp_per_capita\": 31537, \"generation\": \"Generation X\"}, {\"country\": \"Colombia\", \"year\": \"2015-01-01T00:00:00\", \"sex\": \"male\", \"age\": \"55-74 years\", \"suicides_no\": 317, \"population\": 2926656, \"suicides_per_100k_pop\": 10.83, \"gdp_for_year\": \"291,519,591,533\", \"gdp_per_capita\": 6552, \"generation\": \"Boomers\"}, {\"country\": \"Thailand\", \"year\": \"2015-01-01T00:00:00\", \"sex\": \"male\", \"age\": \"15-24 years\", \"suicides_no\": 317, \"population\": 4847684, \"suicides_per_100k_pop\": 6.54, \"gdp_for_year\": \"401,399,422,443\", \"gdp_per_capita\": 6552, \"generation\": \"Millenials\"}, {\"country\": \"Austria\", \"year\": \"2015-01-01T00:00:00\", \"sex\": \"male\", \"age\": \"35-54 years\", \"suicides_no\": 313, \"population\": 1279822, \"suicides_per_100k_pop\": 24.46, \"gdp_for_year\": \"382,065,930,308\", \"gdp_per_capita\": 46484, \"generation\": \"Generation X\"}, {\"country\": \"Kazakhstan\", \"year\": \"2015-01-01T00:00:00\", \"sex\": \"male\", \"age\": \"15-24 years\", \"suicides_no\": 312, \"population\": 1326082, \"suicides_per_100k_pop\": 23.53, \"gdp_for_year\": \"184,388,432,149\", \"gdp_per_capita\": 11784, \"generation\": \"Millenials\"}, {\"country\": \"United Kingdom\", \"year\": \"2015-01-01T00:00:00\", \"sex\": \"female\", \"age\": \"55-74 years\", \"suicides_no\": 306, \"population\": 7075576, \"suicides_per_100k_pop\": 4.32, \"gdp_for_year\": \"2,885,570,309,161\", \"gdp_per_capita\": 47240, \"generation\": \"Boomers\"}, {\"country\": \"Italy\", \"year\": \"2015-01-01T00:00:00\", \"sex\": \"female\", \"age\": \"55-74 years\", \"suicides_no\": 303, \"population\": 7434895, \"suicides_per_100k_pop\": 4.08, \"gdp_for_year\": \"1,832,868,490,534\", \"gdp_per_capita\": 31537, \"generation\": \"Boomers\"}, {\"country\": \"Mexico\", \"year\": \"2015-01-01T00:00:00\", \"sex\": \"female\", \"age\": \"35-54 years\", \"suicides_no\": 303, \"population\": 15940497, \"suicides_per_100k_pop\": 1.9, \"gdp_for_year\": \"1,169,622,672,463\", \"gdp_per_capita\": 10228, \"generation\": \"Generation X\"}, {\"country\": \"Chile\", \"year\": \"2015-01-01T00:00:00\", \"sex\": \"male\", \"age\": \"55-74 years\", \"suicides_no\": 301, \"population\": 1394272, \"suicides_per_100k_pop\": 21.59, \"gdp_for_year\": \"243,999,477,738\", \"gdp_per_capita\": 14729, \"generation\": \"Boomers\"}, {\"country\": \"Chile\", \"year\": \"2015-01-01T00:00:00\", \"sex\": \"male\", \"age\": \"25-34 years\", \"suicides_no\": 296, \"population\": 1406921, \"suicides_per_100k_pop\": 21.04, \"gdp_for_year\": \"243,999,477,738\", \"gdp_per_capita\": 14729, \"generation\": \"Millenials\"}, {\"country\": \"Ukraine\", \"year\": \"2015-01-01T00:00:00\", \"sex\": \"female\", \"age\": \"75+ years\", \"suicides_no\": 296, \"population\": 2261462, \"suicides_per_100k_pop\": 13.09, \"gdp_for_year\": \"91,030,959,455\", \"gdp_per_capita\": 2256, \"generation\": \"Silent\"}, {\"country\": \"Australia\", \"year\": \"2015-01-01T00:00:00\", \"sex\": \"female\", \"age\": \"35-54 years\", \"suicides_no\": 294, \"population\": 3203643, \"suicides_per_100k_pop\": 9.18, \"gdp_for_year\": \"1,349,034,029,453\", \"gdp_per_capita\": 60656, \"generation\": \"Generation X\"}, {\"country\": \"Austria\", \"year\": \"2015-01-01T00:00:00\", \"sex\": \"male\", \"age\": \"55-74 years\", \"suicides_no\": 294, \"population\": 915115, \"suicides_per_100k_pop\": 32.13, \"gdp_for_year\": \"382,065,930,308\", \"gdp_per_capita\": 46484, \"generation\": \"Boomers\"}, {\"country\": \"Poland\", \"year\": \"2015-01-01T00:00:00\", \"sex\": \"male\", \"age\": \"75+ years\", \"suicides_no\": 288, \"population\": 902310, \"suicides_per_100k_pop\": 31.92, \"gdp_for_year\": \"477,355,617,456\", \"gdp_per_capita\": 13228, \"generation\": \"Silent\"}, {\"country\": \"Sweden\", \"year\": \"2015-01-01T00:00:00\", \"sex\": \"male\", \"age\": \"35-54 years\", \"suicides_no\": 288, \"population\": 1289581, \"suicides_per_100k_pop\": 22.33, \"gdp_for_year\": \"497,918,109,302\", \"gdp_per_capita\": 54629, \"generation\": \"Generation X\"}, {\"country\": \"Serbia\", \"year\": \"2015-01-01T00:00:00\", \"sex\": \"male\", \"age\": \"55-74 years\", \"suicides_no\": 286, \"population\": 852168, \"suicides_per_100k_pop\": 33.56, \"gdp_for_year\": \"37,160,332,465\", \"gdp_per_capita\": 5492, \"generation\": \"Boomers\"}, {\"country\": \"Australia\", \"year\": \"2015-01-01T00:00:00\", \"sex\": \"male\", \"age\": \"15-24 years\", \"suicides_no\": 281, \"population\": 1608990, \"suicides_per_100k_pop\": 17.46, \"gdp_for_year\": \"1,349,034,029,453\", \"gdp_per_capita\": 60656, \"generation\": \"Millenials\"}, {\"country\": \"Spain\", \"year\": \"2015-01-01T00:00:00\", \"sex\": \"female\", \"age\": \"55-74 years\", \"suicides_no\": 281, \"population\": 5125562, \"suicides_per_100k_pop\": 5.48, \"gdp_for_year\": \"1,197,789,902,774\", \"gdp_per_capita\": 27108, \"generation\": \"Boomers\"}, {\"country\": \"Lithuania\", \"year\": \"2015-01-01T00:00:00\", \"sex\": \"male\", \"age\": \"35-54 years\", \"suicides_no\": 275, \"population\": 387255, \"suicides_per_100k_pop\": 71.01, \"gdp_for_year\": \"41,508,609,233\", \"gdp_per_capita\": 15073, \"generation\": \"Generation X\"}, {\"country\": \"United Kingdom\", \"year\": \"2015-01-01T00:00:00\", \"sex\": \"male\", \"age\": \"75+ years\", \"suicides_no\": 273, \"population\": 2200958, \"suicides_per_100k_pop\": 12.4, \"gdp_for_year\": \"2,885,570,309,161\", \"gdp_per_capita\": 47240, \"generation\": \"Silent\"}, {\"country\": \"Italy\", \"year\": \"2015-01-01T00:00:00\", \"sex\": \"male\", \"age\": \"25-34 years\", \"suicides_no\": 271, \"population\": 3451808, \"suicides_per_100k_pop\": 7.85, \"gdp_for_year\": \"1,832,868,490,534\", \"gdp_per_capita\": 31537, \"generation\": \"Millenials\"}, {\"country\": \"Sweden\", \"year\": \"2015-01-01T00:00:00\", \"sex\": \"male\", \"age\": \"55-74 years\", \"suicides_no\": 268, \"population\": 1097579, \"suicides_per_100k_pop\": 24.42, \"gdp_for_year\": \"497,918,109,302\", \"gdp_per_capita\": 54629, \"generation\": \"Boomers\"}, {\"country\": \"Mexico\", \"year\": \"2015-01-01T00:00:00\", \"sex\": \"female\", \"age\": \"25-34 years\", \"suicides_no\": 267, \"population\": 10079012, \"suicides_per_100k_pop\": 2.65, \"gdp_for_year\": \"1,169,622,672,463\", \"gdp_per_capita\": 10228, \"generation\": \"Millenials\"}, {\"country\": \"Switzerland\", \"year\": \"2015-01-01T00:00:00\", \"sex\": \"male\", \"age\": \"55-74 years\", \"suicides_no\": 264, \"population\": 891482, \"suicides_per_100k_pop\": 29.61, \"gdp_for_year\": \"679,289,166,858\", \"gdp_per_capita\": 86068, \"generation\": \"Boomers\"}, {\"country\": \"Cuba\", \"year\": \"2015-01-01T00:00:00\", \"sex\": \"male\", \"age\": \"75+ years\", \"suicides_no\": 257, \"population\": 312547, \"suicides_per_100k_pop\": 82.23, \"gdp_for_year\": \"87,132,800,000\", \"gdp_per_capita\": 8044, \"generation\": \"Silent\"}, {\"country\": \"Poland\", \"year\": \"2015-01-01T00:00:00\", \"sex\": \"female\", \"age\": \"35-54 years\", \"suicides_no\": 256, \"population\": 5143247, \"suicides_per_100k_pop\": 4.98, \"gdp_for_year\": \"477,355,617,456\", \"gdp_per_capita\": 13228, \"generation\": \"Generation X\"}, {\"country\": \"Republic of Korea\", \"year\": \"2015-01-01T00:00:00\", \"sex\": \"female\", \"age\": \"15-24 years\", \"suicides_no\": 256, \"population\": 3211732, \"suicides_per_100k_pop\": 7.97, \"gdp_for_year\": \"1,382,764,027,114\", \"gdp_per_capita\": 28410, \"generation\": \"Millenials\"}, {\"country\": \"United States\", \"year\": \"2015-01-01T00:00:00\", \"sex\": \"male\", \"age\": \"5-14 years\", \"suicides_no\": 255, \"population\": 21273987, \"suicides_per_100k_pop\": 1.2, \"gdp_for_year\": \"18,120,714,000,000\", \"gdp_per_capita\": 60387, \"generation\": \"Generation Z\"}, {\"country\": \"Poland\", \"year\": \"2015-01-01T00:00:00\", \"sex\": \"female\", \"age\": \"55-74 years\", \"suicides_no\": 251, \"population\": 4778252, \"suicides_per_100k_pop\": 5.25, \"gdp_for_year\": \"477,355,617,456\", \"gdp_per_capita\": 13228, \"generation\": \"Boomers\"}, {\"country\": \"Thailand\", \"year\": \"2015-01-01T00:00:00\", \"sex\": \"female\", \"age\": \"55-74 years\", \"suicides_no\": 248, \"population\": 5795996, \"suicides_per_100k_pop\": 4.28, \"gdp_for_year\": \"401,399,422,443\", \"gdp_per_capita\": 6552, \"generation\": \"Boomers\"}, {\"country\": \"Argentina\", \"year\": \"2015-01-01T00:00:00\", \"sex\": \"male\", \"age\": \"75+ years\", \"suicides_no\": 245, \"population\": 712691, \"suicides_per_100k_pop\": 34.38, \"gdp_for_year\": \"594,749,285,413\", \"gdp_per_capita\": 14981, \"generation\": \"Silent\"}, {\"country\": \"Switzerland\", \"year\": \"2015-01-01T00:00:00\", \"sex\": \"male\", \"age\": \"35-54 years\", \"suicides_no\": 242, \"population\": 1248988, \"suicides_per_100k_pop\": 19.38, \"gdp_for_year\": \"679,289,166,858\", \"gdp_per_capita\": 86068, \"generation\": \"Generation X\"}, {\"country\": \"Spain\", \"year\": \"2015-01-01T00:00:00\", \"sex\": \"male\", \"age\": \"25-34 years\", \"suicides_no\": 241, \"population\": 2897590, \"suicides_per_100k_pop\": 8.32, \"gdp_for_year\": \"1,197,789,902,774\", \"gdp_per_capita\": 27108, \"generation\": \"Millenials\"}, {\"country\": \"Turkey\", \"year\": \"2015-01-01T00:00:00\", \"sex\": \"male\", \"age\": \"25-34 years\", \"suicides_no\": 241, \"population\": 6452161, \"suicides_per_100k_pop\": 3.74, \"gdp_for_year\": \"859,796,872,794\", \"gdp_per_capita\": 11961, \"generation\": \"Millenials\"}, {\"country\": \"Ecuador\", \"year\": \"2015-01-01T00:00:00\", \"sex\": \"male\", \"age\": \"15-24 years\", \"suicides_no\": 234, \"population\": 1492713, \"suicides_per_100k_pop\": 15.68, \"gdp_for_year\": \"99,290,381,000\", \"gdp_per_capita\": 6832, \"generation\": \"Millenials\"}, {\"country\": \"Chile\", \"year\": \"2015-01-01T00:00:00\", \"sex\": \"male\", \"age\": \"15-24 years\", \"suicides_no\": 224, \"population\": 1400822, \"suicides_per_100k_pop\": 15.99, \"gdp_for_year\": \"243,999,477,738\", \"gdp_per_capita\": 14729, \"generation\": \"Millenials\"}, {\"country\": \"Turkey\", \"year\": \"2015-01-01T00:00:00\", \"sex\": \"male\", \"age\": \"55-74 years\", \"suicides_no\": 223, \"population\": 5079228, \"suicides_per_100k_pop\": 4.39, \"gdp_for_year\": \"859,796,872,794\", \"gdp_per_capita\": 11961, \"generation\": \"Boomers\"}, {\"country\": \"Belgium\", \"year\": \"2015-01-01T00:00:00\", \"sex\": \"female\", \"age\": \"35-54 years\", \"suicides_no\": 221, \"population\": 1534727, \"suicides_per_100k_pop\": 14.4, \"gdp_for_year\": \"455,039,563,133\", \"gdp_per_capita\": 42830, \"generation\": \"Generation X\"}, {\"country\": \"Hungary\", \"year\": \"2015-01-01T00:00:00\", \"sex\": \"male\", \"age\": \"75+ years\", \"suicides_no\": 221, \"population\": 241730, \"suicides_per_100k_pop\": 91.42, \"gdp_for_year\": \"122,879,042,002\", \"gdp_per_capita\": 13087, \"generation\": \"Silent\"}, {\"country\": \"Netherlands\", \"year\": \"2015-01-01T00:00:00\", \"sex\": \"female\", \"age\": \"55-74 years\", \"suicides_no\": 220, \"population\": 1998082, \"suicides_per_100k_pop\": 11.01, \"gdp_for_year\": \"757,999,453,314\", \"gdp_per_capita\": 47206, \"generation\": \"Boomers\"}, {\"country\": \"Serbia\", \"year\": \"2015-01-01T00:00:00\", \"sex\": \"male\", \"age\": \"35-54 years\", \"suicides_no\": 219, \"population\": 967544, \"suicides_per_100k_pop\": 22.63, \"gdp_for_year\": \"37,160,332,465\", \"gdp_per_capita\": 5492, \"generation\": \"Generation X\"}, {\"country\": \"Lithuania\", \"year\": \"2015-01-01T00:00:00\", \"sex\": \"male\", \"age\": \"55-74 years\", \"suicides_no\": 216, \"population\": 273776, \"suicides_per_100k_pop\": 78.9, \"gdp_for_year\": \"41,508,609,233\", \"gdp_per_capita\": 15073, \"generation\": \"Boomers\"}, {\"country\": \"Austria\", \"year\": \"2015-01-01T00:00:00\", \"sex\": \"male\", \"age\": \"75+ years\", \"suicides_no\": 214, \"population\": 290329, \"suicides_per_100k_pop\": 73.71, \"gdp_for_year\": \"382,065,930,308\", \"gdp_per_capita\": 46484, \"generation\": \"Silent\"}, {\"country\": \"Netherlands\", \"year\": \"2015-01-01T00:00:00\", \"sex\": \"female\", \"age\": \"35-54 years\", \"suicides_no\": 211, \"population\": 2353550, \"suicides_per_100k_pop\": 8.97, \"gdp_for_year\": \"757,999,453,314\", \"gdp_per_capita\": 47206, \"generation\": \"Generation X\"}, {\"country\": \"Croatia\", \"year\": \"2015-01-01T00:00:00\", \"sex\": \"male\", \"age\": \"55-74 years\", \"suicides_no\": 207, \"population\": 476580, \"suicides_per_100k_pop\": 43.43, \"gdp_for_year\": \"49,425,513,611\", \"gdp_per_capita\": 12351, \"generation\": \"Boomers\"}, {\"country\": \"Turkey\", \"year\": \"2015-01-01T00:00:00\", \"sex\": \"male\", \"age\": \"15-24 years\", \"suicides_no\": 207, \"population\": 6573627, \"suicides_per_100k_pop\": 3.15, \"gdp_for_year\": \"859,796,872,794\", \"gdp_per_capita\": 11961, \"generation\": \"Millenials\"}, {\"country\": \"Ecuador\", \"year\": \"2015-01-01T00:00:00\", \"sex\": \"male\", \"age\": \"35-54 years\", \"suicides_no\": 205, \"population\": 1833181, \"suicides_per_100k_pop\": 11.18, \"gdp_for_year\": \"99,290,381,000\", \"gdp_per_capita\": 6832, \"generation\": \"Generation X\"}, {\"country\": \"Romania\", \"year\": \"2015-01-01T00:00:00\", \"sex\": \"male\", \"age\": \"25-34 years\", \"suicides_no\": 198, \"population\": 1398510, \"suicides_per_100k_pop\": 14.16, \"gdp_for_year\": \"177,911,101,680\", \"gdp_per_capita\": 9431, \"generation\": \"Millenials\"}, {\"country\": \"Germany\", \"year\": \"2015-01-01T00:00:00\", \"sex\": \"female\", \"age\": \"25-34 years\", \"suicides_no\": 193, \"population\": 5061297, \"suicides_per_100k_pop\": 3.81, \"gdp_for_year\": \"3,375,611,100,742\", \"gdp_per_capita\": 43201, \"generation\": \"Millenials\"}, {\"country\": \"Finland\", \"year\": \"2015-01-01T00:00:00\", \"sex\": \"male\", \"age\": \"35-54 years\", \"suicides_no\": 190, \"population\": 704220, \"suicides_per_100k_pop\": 26.98, \"gdp_for_year\": \"232,464,833,066\", \"gdp_per_capita\": 44862, \"generation\": \"Generation X\"}, {\"country\": \"Romania\", \"year\": \"2015-01-01T00:00:00\", \"sex\": \"male\", \"age\": \"75+ years\", \"suicides_no\": 189, \"population\": 578683, \"suicides_per_100k_pop\": 32.66, \"gdp_for_year\": \"177,911,101,680\", \"gdp_per_capita\": 9431, \"generation\": \"Silent\"}, {\"country\": \"Serbia\", \"year\": \"2015-01-01T00:00:00\", \"sex\": \"male\", \"age\": \"75+ years\", \"suicides_no\": 189, \"population\": 228745, \"suicides_per_100k_pop\": 82.62, \"gdp_for_year\": \"37,160,332,465\", \"gdp_per_capita\": 5492, \"generation\": \"Silent\"}, {\"country\": \"Ecuador\", \"year\": \"2015-01-01T00:00:00\", \"sex\": \"male\", \"age\": \"25-34 years\", \"suicides_no\": 185, \"population\": 1293193, \"suicides_per_100k_pop\": 14.31, \"gdp_for_year\": \"99,290,381,000\", \"gdp_per_capita\": 6832, \"generation\": \"Millenials\"}, {\"country\": \"Australia\", \"year\": \"2015-01-01T00:00:00\", \"sex\": \"male\", \"age\": \"75+ years\", \"suicides_no\": 181, \"population\": 673787, \"suicides_per_100k_pop\": 26.86, \"gdp_for_year\": \"1,349,034,029,453\", \"gdp_per_capita\": 60656, \"generation\": \"Silent\"}, {\"country\": \"Hungary\", \"year\": \"2015-01-01T00:00:00\", \"sex\": \"female\", \"age\": \"55-74 years\", \"suicides_no\": 181, \"population\": 1350675, \"suicides_per_100k_pop\": 13.4, \"gdp_for_year\": \"122,879,042,002\", \"gdp_per_capita\": 13087, \"generation\": \"Boomers\"}, {\"country\": \"United Kingdom\", \"year\": \"2015-01-01T00:00:00\", \"sex\": \"female\", \"age\": \"25-34 years\", \"suicides_no\": 181, \"population\": 4414464, \"suicides_per_100k_pop\": 4.1, \"gdp_for_year\": \"2,885,570,309,161\", \"gdp_per_capita\": 47240, \"generation\": \"Millenials\"}, {\"country\": \"Belgium\", \"year\": \"2015-01-01T00:00:00\", \"sex\": \"male\", \"age\": \"75+ years\", \"suicides_no\": 177, \"population\": 392775, \"suicides_per_100k_pop\": 45.06, \"gdp_for_year\": \"455,039,563,133\", \"gdp_per_capita\": 42830, \"generation\": \"Silent\"}, {\"country\": \"Belgium\", \"year\": \"2015-01-01T00:00:00\", \"sex\": \"female\", \"age\": \"55-74 years\", \"suicides_no\": 176, \"population\": 1262327, \"suicides_per_100k_pop\": 13.94, \"gdp_for_year\": \"455,039,563,133\", \"gdp_per_capita\": 42830, \"generation\": \"Boomers\"}, {\"country\": \"Colombia\", \"year\": \"2015-01-01T00:00:00\", \"sex\": \"female\", \"age\": \"15-24 years\", \"suicides_no\": 176, \"population\": 4070390, \"suicides_per_100k_pop\": 4.32, \"gdp_for_year\": \"291,519,591,533\", \"gdp_per_capita\": 6552, \"generation\": \"Millenials\"}, {\"country\": \"Kazakhstan\", \"year\": \"2015-01-01T00:00:00\", \"sex\": \"female\", \"age\": \"35-54 years\", \"suicides_no\": 175, \"population\": 2313458, \"suicides_per_100k_pop\": 7.56, \"gdp_for_year\": \"184,388,432,149\", \"gdp_per_capita\": 11784, \"generation\": \"Generation X\"}, {\"country\": \"Thailand\", \"year\": \"2015-01-01T00:00:00\", \"sex\": \"male\", \"age\": \"75+ years\", \"suicides_no\": 174, \"population\": 1068139, \"suicides_per_100k_pop\": 16.29, \"gdp_for_year\": \"401,399,422,443\", \"gdp_per_capita\": 6552, \"generation\": \"Silent\"}, {\"country\": \"Spain\", \"year\": \"2015-01-01T00:00:00\", \"sex\": \"female\", \"age\": \"75+ years\", \"suicides_no\": 168, \"population\": 2624796, \"suicides_per_100k_pop\": 6.4, \"gdp_for_year\": \"1,197,789,902,774\", \"gdp_per_capita\": 27108, \"generation\": \"Silent\"}, {\"country\": \"Ukraine\", \"year\": \"2015-01-01T00:00:00\", \"sex\": \"female\", \"age\": \"25-34 years\", \"suicides_no\": 168, \"population\": 3421535, \"suicides_per_100k_pop\": 4.91, \"gdp_for_year\": \"91,030,959,455\", \"gdp_per_capita\": 2256, \"generation\": \"Millenials\"}, {\"country\": \"Argentina\", \"year\": \"2015-01-01T00:00:00\", \"sex\": \"female\", \"age\": \"35-54 years\", \"suicides_no\": 166, \"population\": 5301368, \"suicides_per_100k_pop\": 3.13, \"gdp_for_year\": \"594,749,285,413\", \"gdp_per_capita\": 14981, \"generation\": \"Generation X\"}, {\"country\": \"Mexico\", \"year\": \"2015-01-01T00:00:00\", \"sex\": \"male\", \"age\": \"75+ years\", \"suicides_no\": 163, \"population\": 1427654, \"suicides_per_100k_pop\": 11.42, \"gdp_for_year\": \"1,169,622,672,463\", \"gdp_per_capita\": 10228, \"generation\": \"Silent\"}, {\"country\": \"Belgium\", \"year\": \"2015-01-01T00:00:00\", \"sex\": \"male\", \"age\": \"25-34 years\", \"suicides_no\": 161, \"population\": 728873, \"suicides_per_100k_pop\": 22.09, \"gdp_for_year\": \"455,039,563,133\", \"gdp_per_capita\": 42830, \"generation\": \"Millenials\"}, {\"country\": \"Italy\", \"year\": \"2015-01-01T00:00:00\", \"sex\": \"male\", \"age\": \"15-24 years\", \"suicides_no\": 161, \"population\": 3057509, \"suicides_per_100k_pop\": 5.27, \"gdp_for_year\": \"1,832,868,490,534\", \"gdp_per_capita\": 31537, \"generation\": \"Millenials\"}, {\"country\": \"Denmark\", \"year\": \"2015-01-01T00:00:00\", \"sex\": \"male\", \"age\": \"35-54 years\", \"suicides_no\": 159, \"population\": 783366, \"suicides_per_100k_pop\": 20.3, \"gdp_for_year\": \"301,298,464,861\", \"gdp_per_capita\": 55972, \"generation\": \"Generation X\"}, {\"country\": \"Finland\", \"year\": \"2015-01-01T00:00:00\", \"sex\": \"male\", \"age\": \"55-74 years\", \"suicides_no\": 159, \"population\": 665885, \"suicides_per_100k_pop\": 23.88, \"gdp_for_year\": \"232,464,833,066\", \"gdp_per_capita\": 44862, \"generation\": \"Boomers\"}, {\"country\": \"United States\", \"year\": \"2015-01-01T00:00:00\", \"sex\": \"female\", \"age\": \"5-14 years\", \"suicides_no\": 158, \"population\": 20342901, \"suicides_per_100k_pop\": 0.78, \"gdp_for_year\": \"18,120,714,000,000\", \"gdp_per_capita\": 60387, \"generation\": \"Generation Z\"}, {\"country\": \"Italy\", \"year\": \"2015-01-01T00:00:00\", \"sex\": \"female\", \"age\": \"75+ years\", \"suicides_no\": 156, \"population\": 4115435, \"suicides_per_100k_pop\": 3.79, \"gdp_for_year\": \"1,832,868,490,534\", \"gdp_per_capita\": 31537, \"generation\": \"Silent\"}, {\"country\": \"Croatia\", \"year\": \"2015-01-01T00:00:00\", \"sex\": \"male\", \"age\": \"35-54 years\", \"suicides_no\": 155, \"population\": 575410, \"suicides_per_100k_pop\": 26.94, \"gdp_for_year\": \"49,425,513,611\", \"gdp_per_capita\": 12351, \"generation\": \"Generation X\"}, {\"country\": \"Argentina\", \"year\": \"2015-01-01T00:00:00\", \"sex\": \"female\", \"age\": \"15-24 years\", \"suicides_no\": 153, \"population\": 3394201, \"suicides_per_100k_pop\": 4.51, \"gdp_for_year\": \"594,749,285,413\", \"gdp_per_capita\": 14981, \"generation\": \"Millenials\"}, {\"country\": \"Australia\", \"year\": \"2015-01-01T00:00:00\", \"sex\": \"female\", \"age\": \"55-74 years\", \"suicides_no\": 152, \"population\": 2411343, \"suicides_per_100k_pop\": 6.3, \"gdp_for_year\": \"1,349,034,029,453\", \"gdp_per_capita\": 60656, \"generation\": \"Boomers\"}, {\"country\": \"Czech Republic\", \"year\": \"2015-01-01T00:00:00\", \"sex\": \"male\", \"age\": \"25-34 years\", \"suicides_no\": 151, \"population\": 737221, \"suicides_per_100k_pop\": 20.48, \"gdp_for_year\": \"186,829,940,546\", \"gdp_per_capita\": 18703, \"generation\": \"Millenials\"}, {\"country\": \"Greece\", \"year\": \"2015-01-01T00:00:00\", \"sex\": \"male\", \"age\": \"35-54 years\", \"suicides_no\": 147, \"population\": 1558791, \"suicides_per_100k_pop\": 9.43, \"gdp_for_year\": \"195,541,761,243\", \"gdp_per_capita\": 18927, \"generation\": \"Generation X\"}, {\"country\": \"Netherlands\", \"year\": \"2015-01-01T00:00:00\", \"sex\": \"male\", \"age\": \"25-34 years\", \"suicides_no\": 146, \"population\": 1045012, \"suicides_per_100k_pop\": 13.97, \"gdp_for_year\": \"757,999,453,314\", \"gdp_per_capita\": 47206, \"generation\": \"Millenials\"}, {\"country\": \"Czech Republic\", \"year\": \"2015-01-01T00:00:00\", \"sex\": \"male\", \"age\": \"75+ years\", \"suicides_no\": 145, \"population\": 264401, \"suicides_per_100k_pop\": 54.84, \"gdp_for_year\": \"186,829,940,546\", \"gdp_per_capita\": 18703, \"generation\": \"Silent\"}, {\"country\": \"Switzerland\", \"year\": \"2015-01-01T00:00:00\", \"sex\": \"male\", \"age\": \"75+ years\", \"suicides_no\": 143, \"population\": 275569, \"suicides_per_100k_pop\": 51.89, \"gdp_for_year\": \"679,289,166,858\", \"gdp_per_capita\": 86068, \"generation\": \"Silent\"}, {\"country\": \"Norway\", \"year\": \"2015-01-01T00:00:00\", \"sex\": \"male\", \"age\": \"35-54 years\", \"suicides_no\": 140, \"population\": 736827, \"suicides_per_100k_pop\": 19.0, \"gdp_for_year\": \"386,663,139,403\", \"gdp_per_capita\": 79187, \"generation\": \"Generation X\"}, {\"country\": \"Greece\", \"year\": \"2015-01-01T00:00:00\", \"sex\": \"male\", \"age\": \"55-74 years\", \"suicides_no\": 139, \"population\": 1157869, \"suicides_per_100k_pop\": 12.0, \"gdp_for_year\": \"195,541,761,243\", \"gdp_per_capita\": 18927, \"generation\": \"Boomers\"}, {\"country\": \"Mexico\", \"year\": \"2015-01-01T00:00:00\", \"sex\": \"male\", \"age\": \"5-14 years\", \"suicides_no\": 137, \"population\": 11790898, \"suicides_per_100k_pop\": 1.16, \"gdp_for_year\": \"1,169,622,672,463\", \"gdp_per_capita\": 10228, \"generation\": \"Generation Z\"}, {\"country\": \"Chile\", \"year\": \"2015-01-01T00:00:00\", \"sex\": \"female\", \"age\": \"35-54 years\", \"suicides_no\": 136, \"population\": 2431495, \"suicides_per_100k_pop\": 5.59, \"gdp_for_year\": \"243,999,477,738\", \"gdp_per_capita\": 14729, \"generation\": \"Generation X\"}, {\"country\": \"Germany\", \"year\": \"2015-01-01T00:00:00\", \"sex\": \"female\", \"age\": \"15-24 years\", \"suicides_no\": 136, \"population\": 4195185, \"suicides_per_100k_pop\": 3.24, \"gdp_for_year\": \"3,375,611,100,742\", \"gdp_per_capita\": 43201, \"generation\": \"Millenials\"}, {\"country\": \"Uruguay\", \"year\": \"2015-01-01T00:00:00\", \"sex\": \"male\", \"age\": \"35-54 years\", \"suicides_no\": 135, \"population\": 423963, \"suicides_per_100k_pop\": 31.84, \"gdp_for_year\": \"53,274,304,222\", \"gdp_per_capita\": 16696, \"generation\": \"Generation X\"}]}}, {\"mode\": \"vega-lite\"});\n",
       "</script>"
      ],
      "text/plain": [
       "alt.Chart(...)"
      ]
     },
     "execution_count": 26,
     "metadata": {},
     "output_type": "execute_result"
    }
   ],
   "source": [
    "alt.Chart(top_countries, title = 'Top countries in 2015 with the highest suicide numbers').mark_bar().encode(\n",
    "    x = alt.X('suicides_no') , y=alt.Y('country',sort= '-x'), color=alt.Color('gdp_per_capita', scale=alt.Scale(scheme='greenblue')))"
   ]
  },
  {
   "cell_type": "markdown",
   "metadata": {},
   "source": [
    "The year with the highest median number of suicides in the 20 year period of 1996 to 2016 turns out to be 2015. And, the second highest was way back in 1997. This is a wide eye opener given, for the past 20 years, a very recent 2015 turns out to the highest.\n",
    "\n",
    "\n",
    "Analyzing what happened in 2015 on a country level, surprising or actually not, United States tops the list, followed by Russian Federation, Japan, Republic of Korea and Brazil respectively. The one common factor among all these countries can be thought of as the ever paced never ending work horse life that we all play a temple run in. However, when we look at the GDP per capita, these 5 countries do not seem to hold the highest! What was the point of all the running? May be the reason for suicides is just more than money and stress. The highest GDP-per-capita looks like Switzerland in the tiny corner with the lowest suicide numbers. A rich and happy place!"
   ]
  },
  {
   "cell_type": "markdown",
   "metadata": {},
   "source": [
    "### 7) RESEARCH QUESTIONS"
   ]
  },
  {
   "cell_type": "markdown",
   "metadata": {},
   "source": [
    "**Question 1**\n",
    "\n",
    "When analyzing the top countries with highest suicide numbers 2015, we see a negative or no correlation with GDP_per_capita and suicide numbers. It is common to attribute"
   ]
  },
  {
   "cell_type": "code",
   "execution_count": null,
   "metadata": {},
   "outputs": [],
   "source": []
  },
  {
   "cell_type": "markdown",
   "metadata": {},
   "source": [
    "### 8)SUMMARY AND CONCLUSIONS"
   ]
  },
  {
   "cell_type": "markdown",
   "metadata": {},
   "source": [
    "Suicide statistics is probably an untouched area in the World Economic forum, but these statistics contribute to the future trend of the population of countries. They can help determine the proportion of population in different ages that gives sense of what the respective Governments can anticipate while planning their economic trends and investments. It can can provide insights on areas of improvement, specifically alluding to the 35 - 45 age group that we analyzed in the graphs above. Loosing that chunk of population can be put he economy out of balance. In reference to the top countries in 2015 with highest suicide numbers, United States tops the list followed by the Russian Federation. It is ironic to say how dictatorship beats democracy in determining the mental state of the population!\n"
   ]
  },
  {
   "cell_type": "markdown",
   "metadata": {},
   "source": [
    "#### References\n",
    "United Nations Development Program. (2018). Human development index (HDI). Retrieved from http://hdr.undp.org/en/indicators/137506\n",
    "\n",
    "World Bank. (2018). World development indicators: GDP (current US$) by country:1985 to 2016. Retrieved from http://databank.worldbank.org/data/source/world-development-indicators#\n",
    "\n",
    "[Szamil]. (2017). Suicide in the Twenty-First Century [dataset]. Retrieved from https://www.kaggle.com/szamil/suicide-in-the-twenty-first-century/notebook\n",
    "\n",
    "World Health Organization. (2018). Suicide prevention. Retrieved from http://www.who.int/mental_health/suicide-prevention/en/"
   ]
  }
 ],
 "metadata": {
  "kernelspec": {
   "display_name": "Python 3",
   "language": "python",
   "name": "python3"
  },
  "language_info": {
   "codemirror_mode": {
    "name": "ipython",
    "version": 3
   },
   "file_extension": ".py",
   "mimetype": "text/x-python",
   "name": "python",
   "nbconvert_exporter": "python",
   "pygments_lexer": "ipython3",
   "version": "3.8.3"
  }
 },
 "nbformat": 4,
 "nbformat_minor": 4
}
